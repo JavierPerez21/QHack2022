{
  "nbformat": 4,
  "nbformat_minor": 0,
  "metadata": {
    "colab": {
      "name": "qml_200_WhoLikeTheBeatles.ipynb",
      "private_outputs": true,
      "provenance": [],
      "authorship_tag": "ABX9TyOfKrzA/oKz3ehclBbXZPIh",
      "include_colab_link": true
    },
    "kernelspec": {
      "name": "python3",
      "display_name": "Python 3"
    },
    "language_info": {
      "name": "python"
    }
  },
  "cells": [
    {
      "cell_type": "markdown",
      "metadata": {
        "id": "view-in-github",
        "colab_type": "text"
      },
      "source": [
        "<a href=\"https://colab.research.google.com/github/JavierPerez21/QHack2022/blob/master/qml_200_WhoLikeTheBeatles.ipynb\" target=\"_parent\"><img src=\"https://colab.research.google.com/assets/colab-badge.svg\" alt=\"Open In Colab\"/></a>"
      ]
    },
    {
      "cell_type": "code",
      "execution_count": null,
      "metadata": {
        "id": "g2-01ZE3bmJo"
      },
      "outputs": [],
      "source": [
        "%%capture\n",
        "!pip install pennylane"
      ]
    },
    {
      "cell_type": "code",
      "source": [
        "from pennylane import numpy as np\n",
        "import pennylane as qml"
      ],
      "metadata": {
        "id": "23H_F4PPb4Jz"
      },
      "execution_count": null,
      "outputs": []
    },
    {
      "cell_type": "markdown",
      "source": [
        "[k-NN](https://en.wikipedia.org/wiki/K-nearest_neighbors_algorithm ) is one of the simplest and most popular classification algorithms. It classifies new data points by assigning them the cluster the majoirty class from its k nearest neighbours.\n",
        "\n",
        "The goal of this challenge is to build a quantum k-NN algorithm that will compute distances with all N existing data points in using only $log_2N$ evaluations instead of N. To do so we need to complete the `distance`function to get the distances between datapoints and then use it to make new predictions."
      ],
      "metadata": {
        "id": "RxvqxktHhsuB"
      }
    },
    {
      "cell_type": "code",
      "source": [
        "def distance(A, B):\n",
        "    \"\"\"Function that returns the distance between two vectors.\n",
        "\n",
        "    Args:\n",
        "        - A (list[int]): person's information: [age, minutes spent watching TV].\n",
        "        - B (list[int]): person's information: [age, minutes spent watching TV].\n",
        "\n",
        "    Returns:\n",
        "        - (float): distance between the two feature vectors.\n",
        "    \"\"\"\n",
        "\n",
        "    # QHACK #\n",
        "\n",
        "    # The Swap test is a method that allows you to calculate |<A|B>|^2 , you could use it to help you.\n",
        "    # The qml.AmplitudeEmbedding operator could help you too.\n",
        "\n",
        "    dev = qml.device(\"default.qubit\", 3)\n",
        "    @qml.qnode(dev)\n",
        "    def circuit():\n",
        "      # We use Mottonen state preparation https://arxiv.org/pdf/quant-ph/0504100.pdf to set each qubit into a normalized representation of each data point\n",
        "      qml.templates.state_preparations.MottonenStatePreparation(\n",
        "          [A[0]/np.sqrt(A[0]**2 + A[1]**2), A[1]/np.sqrt(A[0]**2 + A[1]**2)], wires = 1\n",
        "      )\n",
        "      qml.templates.state_preparations.MottonenStatePreparation(\n",
        "          [B[0]/np.sqrt(B[0]**2 + B[1]**2), B[1]/np.sqrt(B[0]**2 + B[1]**2)], wires = 2\n",
        "      )\n",
        "      qml.Hadamard(wires = 0)\n",
        "      qml.CSWAP(wires = [0, 1, 2])\n",
        "      qml.Hadamard(wires = 0)\n",
        "      return qml.probs(wires = 0)\n",
        "\n",
        "    # QHACK #\n",
        "    # Calculate inner product\n",
        "    circ_result = circuit()[0]\n",
        "    swap_test_sq = 2*circ_result - 1\n",
        "    inner_product =  np.sqrt(swap_test_sq)\n",
        "    # Calcualte distance\n",
        "    distance = np.sqrt(2 * (1 - inner_product))\n",
        "    return distance"
      ],
      "metadata": {
        "id": "QMPCHU57hsZX"
      },
      "execution_count": null,
      "outputs": []
    },
    {
      "cell_type": "code",
      "source": [
        "def predict(dataset, new, k):\n",
        "    \"\"\"Function that given a dataset, determines if a new person do like Beatles or not.\n",
        "\n",
        "    Args:\n",
        "        - dataset (list): List with the age, minutes that different people watch TV, and if they like Beatles.\n",
        "        - new (list(int)): Age and TV minutes of the person we want to classify.\n",
        "        - k (int): number of nearby neighbors to be taken into account.\n",
        "\n",
        "    Returns:\n",
        "        - (str): \"YES\" if they like Beatles, \"NO\" otherwise.\n",
        "    \"\"\"\n",
        "\n",
        "    # DO NOT MODIFY anything in this code block\n",
        "\n",
        "    def k_nearest_classes():\n",
        "        \"\"\"Function that returns a list of k near neighbors.\"\"\"\n",
        "        distances = []\n",
        "        for data in dataset:\n",
        "            distances.append(distance(data[0], new))\n",
        "        nearest = []\n",
        "        for _ in range(k):\n",
        "            indx = np.argmin(distances)\n",
        "            nearest.append(indx)\n",
        "            distances[indx] += 2\n",
        "\n",
        "        return [dataset[i][1] for i in nearest]\n",
        "\n",
        "    output = k_nearest_classes()\n",
        "\n",
        "    return (\n",
        "        \"YES\" if len([i for i in output if i == \"YES\"]) > len(output) / 2 else \"NO\",\n",
        "        float(distance(dataset[0][0], new)),\n",
        "    )"
      ],
      "metadata": {
        "id": "4G6ASDj-lJBk"
      },
      "execution_count": null,
      "outputs": []
    },
    {
      "cell_type": "markdown",
      "source": [
        "Testing 1.in"
      ],
      "metadata": {
        "id": "022CS0jym5mb"
      }
    },
    {
      "cell_type": "code",
      "source": [
        "inputs = \"23,150,1,13,20,YES,24,200,YES,14,130,NO,50,20,NO\".split(\",\")\n",
        "dataset = []\n",
        "new = [int(inputs[0]), int(inputs[1])]\n",
        "k = int(inputs[2])\n",
        "for i in range(3, len(inputs), 3):\n",
        "    dataset.append([[int(inputs[i + 0]), int(inputs[i + 1])], str(inputs[i + 2])])\n",
        "\n",
        "output = predict(dataset, new, k)\n",
        "sol = 0 if output[0] == \"YES\" else 1\n",
        "print(f\"{sol},{output[1]}\")"
      ],
      "metadata": {
        "id": "oHozJHm_lnx0"
      },
      "execution_count": null,
      "outputs": []
    },
    {
      "cell_type": "markdown",
      "source": [
        "Testing 2.in"
      ],
      "metadata": {
        "id": "Uch6BefOm_jT"
      }
    },
    {
      "cell_type": "code",
      "source": [
        "inputs = \"23,10,1,20,100,YES,25,20,YES,14,130,NO,50,20,YES,60,300,YES,45,30,NO,33,20,NO\".split(\",\")\n",
        "dataset = []\n",
        "new = [int(inputs[0]), int(inputs[1])]\n",
        "k = int(inputs[2])\n",
        "for i in range(3, len(inputs), 3):\n",
        "    dataset.append([[int(inputs[i + 0]), int(inputs[i + 1])], str(inputs[i + 2])])\n",
        "\n",
        "output = predict(dataset, new, k)\n",
        "sol = 0 if output[0] == \"YES\" else 1\n",
        "print(f\"{sol},{output[1]}\")"
      ],
      "metadata": {
        "id": "fqgYLakSnAzs"
      },
      "execution_count": null,
      "outputs": []
    }
  ]
}