{
 "nbformat": 4,
 "nbformat_minor": 0,
 "metadata": {
  "colab": {
   "name": "algorithms_100_DeutschJozsa.ipynb",
   "private_outputs": true,
   "provenance": [],
   "authorship_tag": "ABX9TyMHPNUoEkzIlKg/y4VYNMjm",
   "include_colab_link": true
  },
  "kernelspec": {
   "name": "python3",
   "display_name": "Python 3"
  },
  "language_info": {
   "name": "python"
  }
 },
 "cells": [
  {
   "cell_type": "markdown",
   "metadata": {
    "id": "view-in-github",
    "colab_type": "text"
   },
   "source": [
    "<a href=\"https://colab.research.google.com/github/JavierPerez21/QHack2022/blob/master/Coding_Challenges/algorithms_100_DeutschJozsa_template/algorithms_100_DeutschJozsa.ipynb\" target=\"_parent\"><img src=\"https://colab.research.google.com/assets/colab-badge.svg\" alt=\"Open In Colab\"/></a>"
   ]
  },
  {
   "cell_type": "code",
   "execution_count": null,
   "metadata": {
    "id": "lhqyCsvMmjb1"
   },
   "outputs": [],
   "source": [
    "%%capture\n",
    "!pip install pennylane"
   ]
  },
  {
   "cell_type": "code",
   "source": [
    "import pennylane as qml\n",
    "from pennylane import numpy as np"
   ],
   "metadata": {
    "id": "mqnkdagbmxnv"
   },
   "execution_count": null,
   "outputs": []
  },
  {
   "cell_type": "markdown",
   "source": [
    "This challenge simply requires us to implement the [Detusch-Jozsa algorithm](https://qiskit.org/textbook/ch-algorithms/deutsch-jozsa.html) by completing the `deutsch_jozsa()` function."
   ],
   "metadata": {
    "id": "kFpeC7qKmyQ4"
   }
  },
  {
   "cell_type": "code",
   "source": [
    "def deutsch_jozsa(oracle):\n",
    "    \"\"\"This function will determine whether an oracle defined by a function f is constant or balanced.\n",
    "\n",
    "    Args:\n",
    "        - oracle (function): Encoding of the f function as a quantum gate. The first two qubits refer to the input and the third to the output.\n",
    "\n",
    "    Returns:\n",
    "        - (str): \"constant\" or \"balanced\"\n",
    "    \"\"\"\n",
    "\n",
    "    dev = qml.device(\"default.qubit\", wires=3, shots=1)\n",
    "\n",
    "    @qml.qnode(dev)\n",
    "    def circuit():\n",
    "        \"\"\"Implements the Deutsch Jozsa algorithm.\"\"\"\n",
    "\n",
    "        # QHACK #\n",
    "\n",
    "        # Insert any pre-oracle processing here\n",
    "        qml.Hadamard(wires=0)\n",
    "        qml.Hadamard(wires=1)\n",
    "        qml.PauliX(wires=2)\n",
    "        qml.Hadamard(wires=2)\n",
    "\n",
    "        oracle()  # DO NOT MODIFY this line\n",
    "\n",
    "        # Insert any post-oracle processing here\n",
    "        qml.Hadamard(wires=0)\n",
    "        qml.Hadamard(wires=1)\n",
    "\n",
    "        # QHACK #\n",
    "\n",
    "        return qml.sample(wires=range(2))\n",
    "\n",
    "    sample = circuit()\n",
    "\n",
    "\n",
    "    # QHACK #\n",
    "\n",
    "    # From `sample` (a single call to the circuit), determine whether the function is constant or balanced.\n",
    "    if sum(sample) == 0:\n",
    "        return \"constant\"\n",
    "    else:\n",
    "        return \"balanced\"\n",
    "    # QHACK #"
   ],
   "metadata": {
    "id": "SUIZ_FS7nEml"
   },
   "execution_count": null,
   "outputs": []
  },
  {
   "cell_type": "markdown",
   "source": [
    "Testin 1.in (balanced)"
   ],
   "metadata": {
    "id": "YrK3Q9uAnO4y"
   }
  },
  {
   "cell_type": "code",
   "source": [
    "inputs = \"0\".split(\",\")\n",
    "numbers = [int(i) for i in inputs]\n",
    "\n",
    "def oracle():\n",
    "    for i in numbers:\n",
    "        qml.CNOT(wires=[i, 2])\n",
    "\n",
    "output = deutsch_jozsa(oracle)\n",
    "print(output)"
   ],
   "metadata": {
    "id": "H-8OmMSnnQBA"
   },
   "execution_count": null,
   "outputs": []
  },
  {
   "cell_type": "markdown",
   "source": [
    "Testing 2.in (constant)"
   ],
   "metadata": {
    "id": "N8FnV4oDncSE"
   }
  },
  {
   "cell_type": "code",
   "source": [
    "inputs = \"1,1\".split(\",\")\n",
    "numbers = [int(i) for i in inputs]\n",
    "\n",
    "def oracle():\n",
    "    for i in numbers:\n",
    "        qml.CNOT(wires=[i, 2])\n",
    "\n",
    "output = deutsch_jozsa(oracle)\n",
    "print(output)"
   ],
   "metadata": {
    "id": "6FcKiD39nYcw"
   },
   "execution_count": null,
   "outputs": []
  }
 ]
}