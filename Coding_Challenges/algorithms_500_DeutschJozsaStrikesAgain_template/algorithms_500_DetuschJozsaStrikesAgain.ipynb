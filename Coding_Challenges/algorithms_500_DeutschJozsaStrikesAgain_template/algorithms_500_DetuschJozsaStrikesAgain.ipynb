{
  "nbformat": 4,
  "nbformat_minor": 0,
  "metadata": {
    "colab": {
      "name": "algorithms_500_DetuschJozsaStrikesAgain.ipynb",
      "private_outputs": true,
      "provenance": [],
      "authorship_tag": "ABX9TyMKwNNJjBGxT3meCcMg2nqJ",
      "include_colab_link": true
    },
    "kernelspec": {
      "name": "python3",
      "display_name": "Python 3"
    },
    "language_info": {
      "name": "python"
    }
  },
  "cells": [
    {
      "cell_type": "markdown",
      "metadata": {
        "id": "view-in-github",
        "colab_type": "text"
      },
      "source": [
        "<a href=\"https://colab.research.google.com/github/JavierPerez21/QHack2022/blob/master/algorithms_500_DetuschJozsaStrikesAgain.ipynb\" target=\"_parent\"><img src=\"https://colab.research.google.com/assets/colab-badge.svg\" alt=\"Open In Colab\"/></a>"
      ]
    },
    {
      "cell_type": "code",
      "execution_count": null,
      "metadata": {
        "id": "xuFdBxTmqjPx"
      },
      "outputs": [],
      "source": [
        "%%capture\n",
        "!pip install pennylane"
      ]
    },
    {
      "cell_type": "code",
      "source": [
        "from pennylane import numpy as np\n",
        "import pennylane as qml"
      ],
      "metadata": {
        "id": "FJxt4r59qtpa"
      },
      "execution_count": null,
      "outputs": []
    },
    {
      "cell_type": "markdown",
      "source": [
        "The [Deutsch-Jozsa](https://qiskit.org/textbook/ch-algorithms/deutsch-jozsa.html) gives a significant advantage over classical algorithm when trying to asses whether a black-box oracle ($f$) is constant (always return the same value, 0 or 1) or balanced(half the values return 0 and the other half return 1). In this challenge, we extend the basic Deutsch-Jozsa to assessing whether a set of oracles are all constant, all balanced or half-constant half-balnced. The goal of the challenge is to determine whether four functions are all the same type or equally split. To do this we can construct an oracle out of the other oracles and apply the Detusch-Jozsa algorithm over the bigger oracle.\n"
      ],
      "metadata": {
        "id": "3S1PVTruq0Da"
      }
    },
    {
      "cell_type": "code",
      "source": [
        "def deutsch_jozsa(fs):\n",
        "    \"\"\"Function that determines whether four given functions are all of the same type or not.\n",
        "\n",
        "    Args:\n",
        "        - fs (list(function)): A list of 4 quantum functions. Each of them will accept a 'wires' parameter.\n",
        "        The first two wires refer to the input and the third to the output of the function.\n",
        "\n",
        "    Returns:\n",
        "        - (str) : \"4 same\" or \"2 and 2\"\n",
        "    \"\"\"\n",
        "\n",
        "    # QHACK #\n",
        "    \n",
        "    dev = qml.device(\"default.qubit\", wires=6, shots=1)\n",
        "\n",
        "    @qml.qnode(dev)\n",
        "    def circuit():\n",
        "\n",
        "      # Apply Oracle\n",
        "      for k in range(4):\n",
        "        # Set up Deutsch-Josza\n",
        "        qml.Hadamard(wires = 0)\n",
        "        qml.Hadamard(wires = 1)\n",
        "        qml.PauliX(wires = 2)\n",
        "        qml.Hadamard(wires = 2)\n",
        "\n",
        "        # Apply Oracle\n",
        "        fs[k]([0, 1, 2])\n",
        "\n",
        "        # Wrap-up Deutsch-Josza\n",
        "        qml.Hadamard(wires = 0)\n",
        "        qml.Hadamard(wires = 1)\n",
        "\n",
        "        # Take conclusion -> 1 is\n",
        "        qml.Toffoli(wires = [0, 1, 3])\n",
        "        qml.PauliX(wires = 3)\n",
        "\n",
        "        # Store on wires 4 and 5\n",
        "        qml.Toffoli(wires = [3, 4, 5])\n",
        "        qml.CNOT(wires = [3, 4])\n",
        "\n",
        "        # Undo conclusion\n",
        "        qml.PauliX(wires = 3)\n",
        "        qml.Toffoli(wires = [0, 1, 3])\n",
        "\n",
        "        # Undo work\n",
        "        qml.Hadamard(wires = 1)\n",
        "        qml.Hadamard(wires = 0)\n",
        "        fs[k]([0, 1, 2])\n",
        "        qml.Hadamard(wires = 2)\n",
        "        qml.PauliX(wires = 2)\n",
        "        qml.Hadamard(wires = 1)\n",
        "        qml.Hadamard(wires = 0)\n",
        "\n",
        "\n",
        "      return qml.sample(wires=[4, 5])\n",
        "\n",
        "    # QHACK #\n",
        "    sample = circuit()\n",
        "    \n",
        "    if np.sum(sample) == 0:\n",
        "      return \"4 same\"\n",
        "    else:\n",
        "      return \"2 and 2\""
      ],
      "metadata": {
        "id": "M39RMvoRtj68"
      },
      "execution_count": null,
      "outputs": []
    },
    {
      "cell_type": "markdown",
      "source": [
        "We now build a function to check all the oracles to see wether they are 4 same or 2 and 2 to verify our quantum circuit"
      ],
      "metadata": {
        "id": "wowFuMciEVw7"
      }
    },
    {
      "cell_type": "code",
      "source": [
        "def check_oracles(oracles):\n",
        "  devtest = qml.device(\"default.qubit\", wires=3, shots=1)\n",
        "  oracle_kinds = []\n",
        "  for oracle in oracles:\n",
        "    results = []\n",
        "    for input in [[0, 0], [0, 1], [1, 0], [0, 0]]:\n",
        "      @qml.qnode(devtest)\n",
        "      def testoracle():\n",
        "        if input[0] == 1:\n",
        "          qml.PauliX(wires=0)\n",
        "        if input[1] == 1:\n",
        "          qml.PauliX(wires=1)\n",
        "        oracle([0, 1, 2])\n",
        "        return qml.sample(wires=[2])\n",
        "      out = testoracle()\n",
        "      results.append(out.item())\n",
        "    init = results[0]\n",
        "    kind = 'constant'\n",
        "    for i in range(1, len(results)):\n",
        "      if results[i] == init:\n",
        "        continue\n",
        "      else:\n",
        "        kind = 'balanced'\n",
        "        break\n",
        "    oracle_kinds.append(kind)\n",
        "  kind = '4 same'\n",
        "  init = oracle_kinds[0]\n",
        "  for i in range(1, len(oracle_kinds)):\n",
        "    if oracle_kinds[i] == init:\n",
        "      continue\n",
        "    else:\n",
        "      kind = \"2 and 2\"\n",
        "      break\n",
        "  return kind"
      ],
      "metadata": {
        "id": "4TFmKTzE9z8u"
      },
      "execution_count": null,
      "outputs": []
    },
    {
      "cell_type": "code",
      "source": [
        "numbers = np.random.randint(0, 2, 8).tolist()\n",
        "\n",
        "# Definition of the four oracles we will work with.\n",
        "\n",
        "def f1(wires):\n",
        "    qml.CNOT(wires=[wires[numbers[0]], wires[2]])\n",
        "    qml.CNOT(wires=[wires[numbers[1]], wires[2]])\n",
        "\n",
        "def f2(wires):\n",
        "    qml.CNOT(wires=[wires[numbers[2]], wires[2]])\n",
        "    qml.CNOT(wires=[wires[numbers[3]], wires[2]])\n",
        "\n",
        "def f3(wires):\n",
        "    qml.CNOT(wires=[wires[numbers[4]], wires[2]])\n",
        "    qml.CNOT(wires=[wires[numbers[5]], wires[2]])\n",
        "    qml.PauliX(wires=wires[2])\n",
        "\n",
        "def f4(wires):\n",
        "    qml.CNOT(wires=[wires[numbers[6]], wires[2]])\n",
        "    qml.CNOT(wires=[wires[numbers[7]], wires[2]])\n",
        "    qml.PauliX(wires=wires[2])\n",
        "\n",
        "oracles = [f1, f2, f3, f4]\n",
        "output = deutsch_jozsa(oracles)\n",
        "print(f\"Oracles are {check_oracles(oracles)} and we guessed {output}\")"
      ],
      "metadata": {
        "id": "RkjWv1my8q7A"
      },
      "execution_count": null,
      "outputs": []
    }
  ]
}