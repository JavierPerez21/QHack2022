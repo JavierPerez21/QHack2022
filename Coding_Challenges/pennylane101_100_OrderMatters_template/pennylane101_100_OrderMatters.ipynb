{
 "nbformat": 4,
 "nbformat_minor": 0,
 "metadata": {
  "colab": {
   "name": "pennylane101_100_OrderMatters.ipynb",
   "private_outputs": true,
   "provenance": [],
   "authorship_tag": "ABX9TyPYuZliE2KGxvWTrvLEfSZs",
   "include_colab_link": true
  },
  "kernelspec": {
   "name": "python3",
   "display_name": "Python 3"
  },
  "language_info": {
   "name": "python"
  }
 },
 "cells": [
  {
   "cell_type": "markdown",
   "metadata": {
    "id": "view-in-github",
    "colab_type": "text"
   },
   "source": [
    "<a href=\"https://colab.research.google.com/github/JavierPerez21/QHack2022/blob/master/Coding_Challenges/pennylane101_100_OrderMatters_template/pennylane101_100_OrderMatters.ipynb\" target=\"_parent\"><img src=\"https://colab.research.google.com/assets/colab-badge.svg\" alt=\"Open In Colab\"/></a>"
   ]
  },
  {
   "cell_type": "code",
   "execution_count": null,
   "metadata": {
    "id": "JcHhoPNGEwi5"
   },
   "outputs": [],
   "source": [
    "%%capture\n",
    "!pip install pennylane"
   ]
  },
  {
   "cell_type": "markdown",
   "source": [
    "The goal of this challenge is to construct 2 circuits that perform an Rx rotation and an Ry rotation in different order and compare the difference in their outputs.\n",
    "\n",
    "That is:\n",
    "\n",
    "- Circuit 1:\n",
    "  $$\n",
    "  |\\Psi_1\\rangle=R_y(\\theta_1)R_x(\\theta_2) | 0 \\rangle \n",
    "  $$\n",
    "\n",
    "\n",
    "  $$\n",
    "  out1 = \\langle \\Psi_1 | X | \\Psi_1 \\rangle\n",
    "  $$\n",
    "\n",
    "- Circuit 2:\n",
    "  $$ \n",
    "  | \\Psi_2 \\rangle =R_x(\\theta_1)R_y(\\theta_2) | 0 \\rangle \n",
    "  $$\n",
    "\n",
    "  $$\n",
    "  out2 = \\langle \\Psi_2 | X | \\Psi_2 \\rangle\n",
    "  $$\n",
    "\n",
    "Hence, the output should be:\n",
    "\n",
    "  $$\n",
    "  absdiff = | out1 - out2 | = | \\langle 0 | R_x(\\theta_2)^\\dagger R_y(\\theta_1)^\\dagger \\; X \\; R_y(\\theta_1)R_x(\\theta_2) | 0 \\rangle - \n",
    "            \\langle 0 | R_y(\\theta_2)^\\dagger R_x(\\theta_1)^\\dagger \\; X \\; R_x(\\theta_1)R_y(\\theta_2) | 0 \\rangle|\n",
    "  $$"
   ],
   "metadata": {
    "id": "_WpBPsZxGJE4"
   }
  },
  {
   "cell_type": "code",
   "source": [
    "import sys\n",
    "import pennylane as qml\n",
    "from pennylane import numpy as np\n",
    "\n",
    "\n",
    "def compare_circuits(angles):\n",
    "    \"\"\"Given two angles, compare two circuit outputs that have their order of operations flipped: RX then RY VERSUS RY then RX.\n",
    "    Args:\n",
    "        - angles (np.ndarray): Two angles\n",
    "    Returns:\n",
    "        - (float): | < \\sigma^x >_1 - < \\sigma^x >_2 |\n",
    "    \"\"\"\n",
    "\n",
    "    # QHACK #\n",
    "\n",
    "    # Initialize the device\n",
    "    num_wires = 1\n",
    "    dev = qml.device('default.qubit', wires=num_wires)\n",
    "\n",
    "    # Create circuit 1 and generate its output\n",
    "    @qml.qnode(dev)\n",
    "    def circuit1(angles):\n",
    "        qml.RX(angles[0], wires=0)\n",
    "        qml.RY(angles[1], wires=0)\n",
    "        return qml.expval(qml.PauliX(0))\n",
    "    out1 = float(circuit1(angles))\n",
    "\n",
    "    # Create circuit 2 and generate its output\n",
    "    @qml.qnode(dev)\n",
    "    def circuit2(angles):\n",
    "        qml.RY(angles[1], wires=0)\n",
    "        qml.RX(angles[0], wires=0)\n",
    "        return qml.expval(qml.PauliX(0))\n",
    "    out2 = float(circuit2(angles))\n",
    "\n",
    "    # Calculate absolute difference of outputs\n",
    "    absdif = abs(out1 - out2)\n",
    "    # QHACK #\n",
    "\n",
    "    return absdif"
   ],
   "metadata": {
    "id": "PV36y9MRE8X1"
   },
   "execution_count": null,
   "outputs": []
  },
  {
   "cell_type": "markdown",
   "source": [
    "You can check the math on your own using dirac algebra and the matrix representation of the X, Rx and Ry gates"
   ],
   "metadata": {
    "id": "NHTOR-4PQDN4"
   }
  },
  {
   "cell_type": "code",
   "source": [
    "# Here we check the inputs of 1.in\n",
    "angles = 3.79894785, 0.71678115\n",
    "angles = np.array(angles, dtype=float)\n",
    "output = compare_circuits(angles)\n",
    "print(f\"For angles {angles[0]} and {angles[1]} the output difference is {output}\")"
   ],
   "metadata": {
    "id": "jRkejqmBFylM"
   },
   "execution_count": null,
   "outputs": []
  }
 ]
}