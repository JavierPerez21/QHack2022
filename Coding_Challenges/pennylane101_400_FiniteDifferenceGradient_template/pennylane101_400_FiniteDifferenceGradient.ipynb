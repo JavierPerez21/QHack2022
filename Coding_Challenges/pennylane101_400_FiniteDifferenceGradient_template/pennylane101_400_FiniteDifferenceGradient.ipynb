{
 "nbformat": 4,
 "nbformat_minor": 0,
 "metadata": {
  "colab": {
   "name": "pennylane101_400_FiniteDifferenceGradient.ipynb",
   "private_outputs": true,
   "provenance": [],
   "authorship_tag": "ABX9TyOY9Kj43pdt4pEjL/Y70vMT",
   "include_colab_link": true
  },
  "kernelspec": {
   "name": "python3",
   "display_name": "Python 3"
  },
  "language_info": {
   "name": "python"
  }
 },
 "cells": [
  {
   "cell_type": "markdown",
   "metadata": {
    "id": "view-in-github",
    "colab_type": "text"
   },
   "source": [
    "<a href=\"https://colab.research.google.com/github/JavierPerez21/QHack2022/blob/master/Coding_Challenges/pennylane101_400_FiniteDifferenceGradient_template/pennylane101_400_FiniteDifferenceGradient.ipynb\" target=\"_parent\"><img src=\"https://colab.research.google.com/assets/colab-badge.svg\" alt=\"Open In Colab\"/></a>"
   ]
  },
  {
   "cell_type": "code",
   "execution_count": null,
   "metadata": {
    "id": "7Ooli8IwwHzy"
   },
   "outputs": [],
   "source": [
    "%%capture\n",
    "!pip install pennylane\n",
    "/home/javier/PycharmProjects/QHack2022/Coding_Challenges/pennylane101_400_FiniteDifferenceGradient_template/pennylane101_400_FiniteDifferenceGradient.ipynb"
   ]
  },
  {
   "cell_type": "code",
   "source": [
    "import pennylane as qml\n",
    "from pennylane import numpy as np"
   ],
   "metadata": {
    "id": "YBjdxHGMwYo-"
   },
   "execution_count": null,
   "outputs": []
  },
  {
   "cell_type": "markdown",
   "source": [
    "The goal of this challenge is to calculate the gradient with respect to the parameters of a [VQE](https://pennylane.ai/qml/demos/tutorial_vqe.html). These parameters will be given as the input $x$ of a circuit $f$ and the gradient should be approximated as:\n",
    "$$\n",
    "\\frac{\\partial f(x)}{\\partial x_i} \\approx \\frac{f(x_i + \\delta/2) - f(x_i - \\delta/2)}{\\delta}\n",
    "$$\n",
    "For this, we only need to complete the `my_finite_diff_grad()` function"
   ],
   "metadata": {
    "id": "8Ulpes_wwZUM"
   }
  },
  {
   "cell_type": "code",
   "source": [
    "dev = qml.device(\"default.qubit\", wires=3)\n",
    "\n",
    "def variational_circuit(params):\n",
    "    \"\"\"A layered variational circuit. The first layer comprises of x, y, and z rotations on wires\n",
    "    0, 1, and 2, respectively. The second layer is a ring of CNOT gates. The final layer comprises \n",
    "    of x, y, and z rotations on wires 0, 1, and 2, respectively.\n",
    "    \"\"\"\n",
    "\n",
    "    # DO NOT MODIFY anything in this code block\n",
    "    qml.RX(params[0], wires=0)\n",
    "    qml.RY(params[1], wires=1)\n",
    "    qml.RZ(params[2], wires=2)\n",
    "\n",
    "    qml.broadcast(qml.CNOT, wires=[0, 1, 2], pattern=\"ring\")\n",
    "\n",
    "    qml.RX(params[3], wires=0)\n",
    "    qml.RY(params[4], wires=1)\n",
    "    qml.RZ(params[5], wires=2)\n",
    "\n",
    "    qml.broadcast(qml.CNOT, wires=[0, 1, 2], pattern=\"ring\")\n",
    "\n",
    "\n",
    "@qml.qnode(dev)\n",
    "def cost(params):\n",
    "    \"\"\"A QNode that pairs the variational_circuit with an expectation value measurement.\n",
    "\n",
    "    Args:\n",
    "        - params (np.ndarray): Variational circuit parameters\n",
    "\n",
    "    Returns:\n",
    "        - (float): qml.expval(qml.PauliY(0) @ qml.PauliZ(2))\n",
    "    \"\"\"\n",
    "\n",
    "    # DO NOT MODIFY anything in this code block\n",
    "    variational_circuit(params)\n",
    "    return qml.expval(qml.PauliY(0) @ qml.PauliZ(2))"
   ],
   "metadata": {
    "id": "8sbWcuK2w51p"
   },
   "execution_count": null,
   "outputs": []
  },
  {
   "cell_type": "code",
   "source": [
    "def my_finite_diff_grad(params):\n",
    "    \"\"\"Function that returns the gradients of the cost function (defined below) with respect \n",
    "    to all parameters in params.\n",
    "\n",
    "    Args:\n",
    "        - params (np.ndarray): The parameters needed to create the variational circuit.\n",
    "\n",
    "    Returns:\n",
    "        - gradients (np.ndarray): the gradient w.r.t. each parameter\n",
    "    \"\"\"\n",
    "\n",
    "    gradients = np.zeros([len(params)])\n",
    "    for i in range(len(params)):\n",
    "        # QHACK #\n",
    "        d = 0.001\n",
    "        shifted = params.copy()\n",
    "        shifted[i] += d/2\n",
    "        out_plus = cost(shifted)\n",
    "        shifted[i] -= d\n",
    "        out_minus = cost(shifted)\n",
    "        gradients[i] = (out_plus - out_minus)/d\n",
    "        # QHACK #\n",
    "\n",
    "    return gradients"
   ],
   "metadata": {
    "id": "RbORs7NDxr-r"
   },
   "execution_count": null,
   "outputs": []
  },
  {
   "cell_type": "markdown",
   "source": [
    "Testing for random input parameters"
   ],
   "metadata": {
    "id": "sZ3yDC0Jy4x2"
   }
  },
  {
   "cell_type": "code",
   "source": [
    "params = np.random.rand(6)*np.pi*2 - np.pi\n",
    "output = my_finite_diff_grad(params)\n",
    "print(\"Approximated gradient\")\n",
    "print(*output, sep=\",\")\n",
    "print(\"Real gradient\")\n",
    "grad = qml.gradients.param_shift(cost)(params)[0]\n",
    "print(*grad, sep=\",\")"
   ],
   "metadata": {
    "id": "tnxxDD3byePY"
   },
   "execution_count": null,
   "outputs": []
  }
 ]
}