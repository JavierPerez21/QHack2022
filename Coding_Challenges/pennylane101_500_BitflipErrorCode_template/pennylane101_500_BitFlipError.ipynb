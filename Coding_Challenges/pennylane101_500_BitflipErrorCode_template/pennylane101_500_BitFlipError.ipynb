{
 "nbformat": 4,
 "nbformat_minor": 0,
 "metadata": {
  "colab": {
   "name": "pennylane101_500_BitFlipError.ipynb",
   "private_outputs": true,
   "provenance": [],
   "authorship_tag": "ABX9TyO9DrYzUzNeo9LZ/H9xBAQb",
   "include_colab_link": true
  },
  "kernelspec": {
   "name": "python3",
   "display_name": "Python 3"
  },
  "language_info": {
   "name": "python"
  }
 },
 "cells": [
  {
   "cell_type": "markdown",
   "metadata": {
    "id": "view-in-github",
    "colab_type": "text"
   },
   "source": [
    "<a href=\"https://colab.research.google.com/github/JavierPerez21/QHack2022/blob/master/Coding_Challenges/pennylane101_500_BitflipErrorCode_template/pennylane101_500_BitFlipError.ipynb\" target=\"_parent\"><img src=\"https://colab.research.google.com/assets/colab-badge.svg\" alt=\"Open In Colab\"/></a>"
   ]
  },
  {
   "cell_type": "code",
   "execution_count": null,
   "metadata": {
    "id": "jm0IGp2Z3Dmm"
   },
   "outputs": [],
   "source": [
    "%%capture\n",
    "!pip install pennylane"
   ]
  },
  {
   "cell_type": "code",
   "source": [
    "import pennylane as qml\n",
    "from pennylane import numpy as np"
   ],
   "metadata": {
    "id": "IY79jxba3LEY"
   },
   "execution_count": null,
   "outputs": []
  },
  {
   "cell_type": "markdown",
   "source": [
    "The goal of this challenge is to detect the probabilities that a bit flip error has occurred in a given circuit. For this, assume we begin with the state $|\\psi\\rangle = \\alpha |0\\rangle + \\sqrt{1-\\alpha²} |1\\rangle$ encoded in a logical three-qubit state. Then we need to complete the function `circuit()` to perform some preprocessing on $|\\psi\\rangle$ perform the random BitFlip and some post processing on the resulting state. Then, we need to complete the function `error_wire()` that will take as an input the output of a circuit and output the probability of a bitflip error not having ocurred and the probability of an error happening in each wire.\n",
    "\n",
    "To solve this challenge, since we have knowledge of which wire is being tampered, we can use the correction approach shown [here](https://quantumcomputinguk.org/tutorials/quantum-error-correction-bit-flip-code-in-qiskit#:~:text=What%20is%20a%20Bit%20Flip,qubits%20to%20correct%201%20qubit.)."
   ],
   "metadata": {
    "id": "lbCDI6a93lQH"
   }
  },
  {
   "cell_type": "code",
   "source": [
    "def density_matrix(alpha):\n",
    "    \"\"\"Creates a density matrix from a pure state.\"\"\"\n",
    "    # DO NOT MODIFY anything in this code block\n",
    "    psi = alpha * np.array([1, 0], dtype=float) + np.sqrt(1 - alpha**2) * np.array(\n",
    "        [0, 1], dtype=float\n",
    "    )\n",
    "    psi = np.kron(psi, np.array([1, 0, 0, 0], dtype=float))\n",
    "    return np.outer(psi, np.conj(psi))"
   ],
   "metadata": {
    "id": "k5BXs5-q3dKj"
   },
   "execution_count": null,
   "outputs": []
  },
  {
   "cell_type": "code",
   "source": [
    "dev = qml.device(\"default.mixed\", wires=3)\n",
    "\n",
    "\n",
    "@qml.qnode(dev)\n",
    "def circuit(p, alpha, tampered_wire):\n",
    "    \"\"\"A quantum circuit that will be able to identify bitflip errors.\n",
    "\n",
    "    DO NOT MODIFY any already-written lines in this function.\n",
    "\n",
    "    Args:\n",
    "        p (float): The bit flip probability\n",
    "        alpha (float): The parameter used to calculate `density_matrix(alpha)`\n",
    "        tampered_wire (int): The wire that may or may not be flipped (zero-index)\n",
    "\n",
    "    Returns:\n",
    "        Some expectation value, state, probs, ... you decide!\n",
    "    \"\"\"\n",
    "\n",
    "    qml.QubitDensityMatrix(density_matrix(alpha), wires=[0, 1, 2])\n",
    "\n",
    "    # QHACK #\n",
    "    # Preprocessing\n",
    "    others = [i for i in [0, 1, 2] if i != tampered_wire]\n",
    "    qml.CNOT(wires=[tampered_wire, others[0]])\n",
    "    qml.CNOT(wires=[tampered_wire, others[1]])\n",
    "    # QHACK #\n",
    "\n",
    "    qml.BitFlip(p, wires=int(tampered_wire))\n",
    "\n",
    "    # QHACK #  \n",
    "    # Post-processing\n",
    "    qml.CNOT(wires=[tampered_wire, others[0]])\n",
    "    qml.CNOT(wires=[tampered_wire, others[1]])\n",
    "    qml.Toffoli(wires=[others[0], others[1], tampered_wire])\n",
    "    return qml.state()\n",
    "    # QHACK #\n",
    "\n",
    "def error_wire(circuit_output):\n",
    "    \"\"\"Function that returns an error readout.\n",
    "\n",
    "    Args:\n",
    "        - circuit_output (?): the output of the `circuit` function.\n",
    "\n",
    "    Returns:\n",
    "        - (np.ndarray): a length-4 array that reveals the statistics of the\n",
    "        error channel. It should display your algorithm's statistical prediction for\n",
    "        whether an error occurred on wire `k` (k in {1,2,3}). The zeroth element represents\n",
    "        the probability that a bitflip error does not occur.\n",
    "\n",
    "        e.g., [0.28, 0.0, 0.72, 0.0] means a 28% chance no bitflip error occurs, but if one\n",
    "        does occur it occurs on qubit #2 with a 72% chance.\n",
    "    \"\"\"\n",
    "\n",
    "    # QHACK #\n",
    "    probs = abs(np.array([circuit_output[i][i] for i in range(0, len(circuit_output))]))\n",
    "    p_, p0, p1, p2 = 0, 0, 0, 0\n",
    "    p_ = probs[0] + probs[4]\n",
    "    if probs[7] != 0:\n",
    "        p0 = probs[7] + probs[3]\n",
    "    if probs[5] != 0:\n",
    "        p1 = probs[5] + probs[3]\n",
    "    if probs[6] != 0:\n",
    "        p2 = probs[6] + probs[3]\n",
    "\n",
    "    # QHACK #\n",
    "    return [p_, p0, p1, p2]"
   ],
   "metadata": {
    "id": "dBO-jdau3hsf"
   },
   "execution_count": null,
   "outputs": []
  },
  {
   "cell_type": "markdown",
   "source": [
    "Testing our solution"
   ],
   "metadata": {
    "id": "jqLUlqLR5uyF"
   }
  },
  {
   "cell_type": "code",
   "source": [
    "prob = np.random.rand()\n",
    "alpha = np.random.rand()\n",
    "idx = np.random.randint(0, 3)\n",
    "inputs = np.array([prob, alpha, idx], dtype=float)\n",
    "p, alpha, tampered_wire = inputs[0], inputs[1], int(inputs[2])\n",
    "\n",
    "error_readout = np.zeros(4, dtype=float)\n",
    "circuit_output = circuit(p, alpha, tampered_wire)\n",
    "error_readout = error_wire(circuit_output)\n",
    "print(f\"Probability of error not happening -> Predicted: {np.round(error_readout[0]*100, 2)}% vs Expected: {np.round((1 - inputs[0])*100,2)}%\")\n",
    "for i in range(0, 3):\n",
    "  if inputs[-1] == i:\n",
    "      prob = np.round(inputs[0]*100, 2)\n",
    "  else:\n",
    "      prob = 0\n",
    "  print(f\"Probability of error happening on wire {i}: {np.round(error_readout[i+1]*100, 2)}% vs Expected: {prob}%\")"
   ],
   "metadata": {
    "id": "yehRhfL63jQz"
   },
   "execution_count": null,
   "outputs": []
  },
  {
   "cell_type": "markdown",
   "source": [
    "Now, let's see why our `error_wire` function works.\n",
    "\n",
    "First, notice that our `circuit` function makes use of the `density_matrix` function and so the input to our preprocessing and post processing is a matrix $M$ given by:\n",
    "\n",
    "$$\n",
    " M = |\\psi\\rangle \\langle \\psi | \\;\\;\\; where  \\;\\;\\; M_{i,j} = |\\psi_i\\rangle \\langle \\psi_j |\n",
    "$$\n",
    "\n",
    "Hence, the output of our circuit is another matrix $A$ of the same shape as $M$.\n",
    "\n",
    "Let's analyze the outputs along the diagonal of a few of these circuits."
   ],
   "metadata": {
    "id": "n3CTeyrP7NWL"
   }
  },
  {
   "cell_type": "code",
   "source": [
    "prob = np.random.rand()\n",
    "alpha = np.random.rand()\n",
    "for idx in [0, 1, 2]:  \n",
    "  inputs = np.array([prob, alpha, idx], dtype=float)\n",
    "  p, alpha, tampered_wire = inputs[0], inputs[1], int(inputs[2])\n",
    "  circuit_output = circuit(p, alpha, tampered_wire)\n",
    "  diag = np.array([np.round(circuit_output[i][i].real, 4) for i in range(0, len(circuit_output))])\n",
    "  diag = diag.reshape(2, 2, 2)\n",
    "  print(f\"Tampering wire {idx}\")\n",
    "  expected_output = [np.round((1 - inputs[0]), 4), 0, 0, 0]\n",
    "  expected_output[idx+1] = np.round(inputs[0], 4)\n",
    "  print(f\"Expected output = {expected_output}\")\n",
    "  print(\" Values for eachs tate\")\n",
    "  for i in [0, 1]:\n",
    "    for j in [0, 1]:\n",
    "      for k in [0, 1]:\n",
    "        out = diag[i][j][k]\n",
    "        print(f\"  State|{i}{j}{k}> --> {out}\")"
   ],
   "metadata": {
    "id": "Vd4yadX99rKV"
   },
   "execution_count": null,
   "outputs": []
  },
  {
   "cell_type": "markdown",
   "source": [
    "From this it is easy to see that the null probability (probability of an error not happening) is always given by the sum of values corresponding to states $|000\\rangle$ and $|100\\rangle$. We can also observe that the probabilities of the error happening on qubits 0, 1 or 2 are given by the sum of the value corresponding to state $||011\\rangle$ and the value corresponding to states $|111\\rangle$, $|101\\rangle$ and $|1101\\rangle$ respectively, which is exactly what we do in our solution.\n",
    "\n",
    "```\n",
    "probs = abs(np.array([circuit_output[i][i] for i in range(0, len(circuit_output))]))\n",
    "p_, p0, p1, p2 = 0, 0, 0, 0\n",
    "p_ = probs[0] + probs[4]\n",
    "if probs[7] != 0:\n",
    "    p0 = probs[7] + probs[3]\n",
    "if probs[5] != 0:\n",
    "    p1 = probs[5] + probs[3]\n",
    "if probs[6] != 0:\n",
    "    p2 = probs[6] + probs[3]\n",
    "```"
   ],
   "metadata": {
    "id": "FgqIxB8zAQG8"
   }
  }
 ]
}