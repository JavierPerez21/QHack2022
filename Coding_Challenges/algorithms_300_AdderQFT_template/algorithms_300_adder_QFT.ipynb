{
 "nbformat": 4,
 "nbformat_minor": 0,
 "metadata": {
  "colab": {
   "name": "algortihms_300_adder_QFT.ipynb",
   "private_outputs": true,
   "provenance": [],
   "authorship_tag": "ABX9TyPnTesUuohA70DkGrz96Vm5",
   "include_colab_link": true
  },
  "kernelspec": {
   "name": "python3",
   "display_name": "Python 3"
  },
  "language_info": {
   "name": "python"
  }
 },
 "cells": [
  {
   "cell_type": "markdown",
   "metadata": {
    "id": "view-in-github",
    "colab_type": "text"
   },
   "source": [
    "<a href=\"https://colab.research.google.com/github/JavierPerez21/QHack2022/blob/master/Coding_Challenges/algorithms_300_AdderQFT_template/algorithms_300_adder_QFT.ipynb\" target=\"_parent\"><img src=\"https://colab.research.google.com/assets/colab-badge.svg\" alt=\"Open In Colab\"/></a>"
   ]
  },
  {
   "cell_type": "code",
   "execution_count": null,
   "metadata": {
    "id": "vEPjMbP5387v"
   },
   "outputs": [],
   "source": [
    "%%capture\n",
    "!pip install pennylane"
   ]
  },
  {
   "cell_type": "code",
   "source": [
    "from pennylane import numpy as np\n",
    "import pennylane as qml\n",
    "import random"
   ],
   "metadata": {
    "id": "Lcv15EIP5I5f"
   },
   "execution_count": null,
   "outputs": []
  },
  {
   "cell_type": "markdown",
   "source": [
    "The goal of this challenge is to add two numbers $m$ and $2^{n_{wires}-1}$ using a quantum circuit. To do this, we can use [QFTs](https://qiskit.org/textbook/ch-algorithms/quantum-fourier-transform.html) to encode the numbers to add on the fourier basis, then rotate the qubits correspondingly using PhaseShifts and get the basis state back using QFTs again."
   ],
   "metadata": {
    "id": "US0_VYus5Jgw"
   }
  },
  {
   "cell_type": "code",
   "source": [
    "def qfunc_adder(m, wires):\n",
    "    \"\"\"Quantum function capable of adding m units to a basic state given as input.\n",
    "\n",
    "    Args:\n",
    "        - m (int): units to add.\n",
    "        - wires (list(int)): list of wires in which the function will be executed on.\n",
    "    \"\"\"\n",
    "\n",
    "    qml.QFT(wires=wires)\n",
    "\n",
    "    # QHACK #\n",
    "    N = len(wires)\n",
    "    for i in range(N):\n",
    "        qml.PhaseShift(m * (np.pi)/(2**i), wires = list(wires)[::][i] )\n",
    "\n",
    "    # QHACK #\n",
    "\n",
    "    qml.QFT(wires=wires).inv()\n"
   ],
   "metadata": {
    "id": "X7jnVRB55Ea3"
   },
   "execution_count": null,
   "outputs": []
  },
  {
   "cell_type": "markdown",
   "source": [
    "Test solution"
   ],
   "metadata": {
    "id": "xpZ05W2C7_Jl"
   }
  },
  {
   "cell_type": "code",
   "source": [
    "m, n_wires = sorted(random.sample(range(1, 10), 2))\n",
    "wires = range(n_wires)\n",
    "\n",
    "dev = qml.device(\"default.qubit\", wires=wires, shots=1)\n",
    "\n",
    "@qml.qnode(dev)\n",
    "def test_circuit():\n",
    "    # Input:  |2^{N-1}>\n",
    "    qml.PauliX(wires=0)\n",
    "\n",
    "    qfunc_adder(m, wires)\n",
    "    return qml.sample()\n",
    "\n",
    "output = test_circuit()\n",
    "out = 0\n",
    "for i, w in enumerate(output[::-1]):\n",
    "  out += w*2**i\n",
    "print(f\" {m} + {2**(n_wires-1)} = {out}\")"
   ],
   "metadata": {
    "id": "Qkp-LJ6M58Eb"
   },
   "execution_count": null,
   "outputs": []
  }
 ]
}