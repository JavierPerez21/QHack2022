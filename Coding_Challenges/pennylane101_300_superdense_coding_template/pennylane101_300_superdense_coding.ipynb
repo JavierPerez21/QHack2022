{
 "nbformat": 4,
 "nbformat_minor": 0,
 "metadata": {
  "colab": {
   "name": "pennylane101_300_superdense_coding.ipynb",
   "private_outputs": true,
   "provenance": [],
   "authorship_tag": "ABX9TyM++V7cOwOlVfqopuQGbUBt",
   "include_colab_link": true
  },
  "kernelspec": {
   "name": "python3",
   "display_name": "Python 3"
  },
  "language_info": {
   "name": "python"
  }
 },
 "cells": [
  {
   "cell_type": "markdown",
   "metadata": {
    "id": "view-in-github",
    "colab_type": "text"
   },
   "source": [
    "<a href=\"https://colab.research.google.com/github/JavierPerez21/QHack2022/blob/master/Coding_Challenges/pennylane101_300_superdense_coding_template/pennylane101_300_superdense_coding.ipynb\" target=\"_parent\"><img src=\"https://colab.research.google.com/assets/colab-badge.svg\" alt=\"Open In Colab\"/></a>"
   ]
  },
  {
   "cell_type": "code",
   "execution_count": null,
   "metadata": {
    "id": "ErOD2STDCWhU"
   },
   "outputs": [],
   "source": [
    "%%capture\n",
    "!pip install pennylane"
   ]
  },
  {
   "cell_type": "code",
   "source": [
    "import pennylane as qml\n",
    "from pennylane import numpy as np"
   ],
   "metadata": {
    "id": "4-TkR_ebChF_"
   },
   "execution_count": null,
   "outputs": []
  },
  {
   "cell_type": "markdown",
   "source": [
    "This challenge is based on [Quantum Teleportation](https://qiskit.org/textbook/ch-algorithms/teleportation.html). However, there is a tweak. In this case we assume that we cannot create a maximally entangled state. Suppose that we have an imperfect entangles that generates the following state:\n",
    "\n",
    "$$\n",
    "|\\psi\\rangle = cos(\\alpha)|0\\rangle_A|0\\rangle_B+sin(\\alpha)|1\\rangle_A|1\\rangle_B\n",
    "$$\n",
    "\n",
    "The goal of this challenge is to calculate the probability that Bob will read out the correct state form that state."
   ],
   "metadata": {
    "id": "3oQuU7pvChbL"
   }
  },
  {
   "cell_type": "code",
   "source": [
    "dev = qml.device(\"default.qubit\", wires=2)\n",
    "\n",
    "\n",
    "@qml.qnode(dev)\n",
    "def superdense_coding(bits, alpha):\n",
    "    \"\"\"Construct a quantum circuit that implements superdense coding, given a not necessarily maximally entangled state\n",
    "\n",
    "    Args:\n",
    "        - bits (int): 0 (binary: 00), 1 (binary: 01), 2 (binary: 10), or 3 (binary: 11), Alice's bits that she wants to communicate to Bob.\n",
    "        - alpha (float): angle parametrizing the entangled state\n",
    "\n",
    "    Returns:\n",
    "        - (np.tensor): Probability that Bob will guess Alice's bits correctly\n",
    "    \"\"\"\n",
    "\n",
    "    # QHACK #\n",
    "\n",
    "    # Prepare state |ψi = cos(α)|0iA |0iB + sin(α)|1iA |1iB\n",
    "    qml.RY(alpha*2, wires=0)\n",
    "    qml.CNOT(wires=[0, 1])\n",
    "\n",
    "\n",
    "    # Implement Alice's operations on her qubit here\n",
    "    if bits == 0:\n",
    "        pass\n",
    "    elif bits == 1:\n",
    "        qml.PauliX(wires=0)\n",
    "    elif bits == 2:\n",
    "        qml.PauliZ(wires=0)\n",
    "    elif bits == 3:\n",
    "        qml.PauliX(wires=0)\n",
    "        qml.PauliZ(wires=0)\n",
    "\n",
    "    # Implement Bob's measurement procedure here\n",
    "    qml.CNOT(wires=[0, 1])\n",
    "    qml.Hadamard(wires=0)\n",
    "    # QHACK #\n",
    "\n",
    "    return qml.probs(wires=[0, 1])\n",
    "\n",
    "\n",
    "def return_probs(bits, alpha):\n",
    "    \"\"\"Returns the output of the superdense_coding function for a given index (bits)\"\"\"\n",
    "    # DO NOT MODIFY anything in this code block\n",
    "    return superdense_coding(bits, alpha)[bits].numpy()\n"
   ],
   "metadata": {
    "id": "OLtovQbyD1E0"
   },
   "execution_count": null,
   "outputs": []
  },
  {
   "cell_type": "markdown",
   "source": [
    "Testing with 1.in"
   ],
   "metadata": {
    "id": "NX2ILoM1EDjH"
   }
  },
  {
   "cell_type": "code",
   "source": [
    "#With pi/4 the probability should be 1\n",
    "inputs = \"0,0.7854\".split(\",\")\n",
    "output = return_probs(int(inputs[0]), float(inputs[1]))\n",
    "print(f\"Bob will read out the correct state with probability {round(output, 6)}\")"
   ],
   "metadata": {
    "id": "uZYxTqLlECY2"
   },
   "execution_count": null,
   "outputs": []
  },
  {
   "cell_type": "markdown",
   "source": [
    "Testing with 2.in"
   ],
   "metadata": {
    "id": "LggNy8ZXEFUF"
   }
  },
  {
   "cell_type": "code",
   "source": [
    "inputs = \"2,0.4\".split(\",\")\n",
    "output = return_probs(int(inputs[0]), float(inputs[1]))\n",
    "print(f\"Bob will read out the correct state with probability {round(output, 6)}\")"
   ],
   "metadata": {
    "id": "GYbkP6c1Ef1G"
   },
   "execution_count": null,
   "outputs": []
  }
 ]
}