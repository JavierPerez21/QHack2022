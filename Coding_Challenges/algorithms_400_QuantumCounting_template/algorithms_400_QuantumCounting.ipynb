{
 "nbformat": 4,
 "nbformat_minor": 0,
 "metadata": {
  "colab": {
   "name": "algorithms_400_QuantumCounting.ipynb",
   "private_outputs": true,
   "provenance": [],
   "authorship_tag": "ABX9TyMBWszuIasjyD0n/mmIfSk2",
   "include_colab_link": true
  },
  "kernelspec": {
   "name": "python3",
   "display_name": "Python 3"
  },
  "language_info": {
   "name": "python"
  }
 },
 "cells": [
  {
   "cell_type": "markdown",
   "metadata": {
    "id": "view-in-github",
    "colab_type": "text"
   },
   "source": [
    "<a href=\"https://colab.research.google.com/github/JavierPerez21/QHack2022/blob/master/Coding_Challenges/algorithms_400_QuantumCounting_template/algorithms_400_QuantumCounting.ipynb\" target=\"_parent\"><img src=\"https://colab.research.google.com/assets/colab-badge.svg\" alt=\"Open In Colab\"/></a>"
   ]
  },
  {
   "cell_type": "code",
   "execution_count": null,
   "metadata": {
    "id": "IkUYH-AXlpQ3"
   },
   "outputs": [],
   "source": [
    "%%capture\n",
    "!pip install pennylane"
   ]
  },
  {
   "cell_type": "code",
   "source": [
    "import pennylane as qml\n",
    "from pennylane import numpy as np\n",
    "from pennylane.templates import QuantumPhaseEstimation\n",
    "\n",
    "dev = qml.device(\"default.qubit\", wires=8)"
   ],
   "metadata": {
    "id": "DpJxC_C2lwdB"
   },
   "execution_count": null,
   "outputs": []
  },
  {
   "cell_type": "markdown",
   "source": [
    "[Grover's Algorithm](https://qiskit.org/textbook/ch-algorithms/grover.html) is one of the most important quantum computing algorithms as it allows us to solve unstructured search problems much more efficiently than classical computing alggorithms. Generally, these unstructured search problems are framed as an oracle $U$ that will give the value 1 when queried with the desired element and 0 otherwise. [Quantum Counting](https://qiskit.org/textbook/ch-algorithms/quantum-counting.html) is an extension of this algorithm for oracles that have multiple solutions, that is, search spaces in which several elements meet the required criteria. It allows us to count the number of solutions efficientlty.\n",
    "\n",
    "The goal of this challenge is to implement the quantum counting algorithm and to estimate the error in the number of calculated solutions. For this, we need to complete four functions:\n",
    "- `oracle_matrix`: returns the matrix representation of the oracle U .\n",
    "- `circuit`: this is where you must construct the circuit in Figure 1. It returns qml.probs(estimation_wires).\n",
    "- `number_of_solutions`: this is where you must calculate the approximate number of solutions given by M .\n",
    "- `relative_error`: the number of elements x such that f (x) = 1, as calculated by the quantum counting algorithm, is an estimate of the actual answer. Thus, you are asked to calculate the relative percentage error\n",
    "$$\n",
    "E = \\frac{Sols_{estimated}-Sols_{real}}{Sols_{real}} \\times 100%\n",
    "$$\n",
    "true number of elements\n"
   ],
   "metadata": {
    "id": "k2VpKkitlw0O"
   }
  },
  {
   "cell_type": "code",
   "source": [
    "def diffusion_matrix():\n",
    "\n",
    "    # DO NOT MODIFY anything in this code block\n",
    "\n",
    "    psi_piece = (1 / 2 ** 4) * np.ones(2 ** 4)\n",
    "    ident_piece = np.eye(2 ** 4)\n",
    "    return 2 * psi_piece - ident_piece\n",
    "\n",
    "\n",
    "def grover_operator(indices):\n",
    "\n",
    "    # DO NOT MODIFY anything in this code block\n",
    "\n",
    "    return np.dot(diffusion_matrix(), oracle_matrix(indices))"
   ],
   "metadata": {
    "id": "fB-njtNVpN0N"
   },
   "execution_count": null,
   "outputs": []
  },
  {
   "cell_type": "code",
   "source": [
    "def oracle_matrix(indices):\n",
    "    \"\"\"Return the oracle matrix for a secret combination.\n",
    "    Args:\n",
    "        - indices (list(int)): A list of bit indices (e.g. [0,3]) representing the elements that are map to 1.\n",
    "    Returns:\n",
    "        - (np.ndarray): The matrix representation of the oracle\n",
    "    \"\"\"\n",
    "\n",
    "    # QHACK #\n",
    "    # Create diagonal matrix\n",
    "    my_array = np.eye(2 ** 4)\n",
    "    # Set elements indicated by index to -1 along the diagonal\n",
    "    for i in indices:\n",
    "      my_array[i, i] = -1\n",
    "    # QHACK #\n",
    "    return my_array"
   ],
   "metadata": {
    "id": "KLiN0wR-lwXJ"
   },
   "execution_count": null,
   "outputs": []
  },
  {
   "cell_type": "code",
   "source": [
    "@qml.qnode(dev)\n",
    "def circuit(indices):\n",
    "    \"\"\"Return the probabilities of each basis state after applying QPE to the Grover operator\n",
    "    Args:\n",
    "        - indices (list(int)): A list of bits representing the elements that map to 1.\n",
    "    Returns:\n",
    "        - (np.tensor): Probabilities of measuring each computational basis state\n",
    "    \"\"\"\n",
    "\n",
    "    # QHACK #\n",
    "\n",
    "    target_wires = [0, 1, 2, 3]\n",
    "\n",
    "    estimation_wires = [4, 5, 6, 7]\n",
    "\n",
    "    # Build your circuit here\n",
    "    # Intitialize all qubits to |+>\n",
    "    for i in range(4):\n",
    "      qml.Hadamard(wires = i)\n",
    "    # Do  QPE om the grover operator\n",
    "    qml.QuantumPhaseEstimation(\n",
    "        grover_operator(indices), target_wires, estimation_wires\n",
    "    )\n",
    "    # QHACK #\n",
    "    return qml.probs(estimation_wires)"
   ],
   "metadata": {
    "id": "HLQCeK-lpRU9"
   },
   "execution_count": null,
   "outputs": []
  },
  {
   "cell_type": "code",
   "source": [
    "def number_of_solutions(indices):\n",
    "    \"\"\"Implement the formula given in the problem statement to find the number of solutions from the output of your circuit\n",
    "    Args:\n",
    "        - indices (list(int)): A list of bits representing the elements that map to 1.\n",
    "    Returns:\n",
    "        - (float): number of elements as estimated by the quantum counting algorithm\n",
    "    \"\"\"\n",
    "\n",
    "    # QHACK #\n",
    "    results = circuit(indices)\n",
    "    # Calculate M according to formula\n",
    "    theta = np.argmax(results) * np.pi / 8\n",
    "    M = 16 * (np.sin(theta/2) ** 2)\n",
    "    # QHACK #\n",
    "    return M"
   ],
   "metadata": {
    "id": "jxXpMoPVp0xN"
   },
   "execution_count": null,
   "outputs": []
  },
  {
   "cell_type": "code",
   "source": [
    "def relative_error(indices):\n",
    "    \"\"\"Calculate the relative error of the quantum counting estimation\n",
    "    Args:\n",
    "        - indices (list(int)): A list of bits representing the elements that map to 1.\n",
    "    Returns: \n",
    "        - (float): relative error\n",
    "    \"\"\"\n",
    "    # QHACK #\n",
    "    num_sol = number_of_solutions(indices)\n",
    "    # Calculate rel error according to formula\n",
    "    rel_err = (num_sol - len(indices))/(len(indices))\n",
    "    # QHACK #\n",
    "    return rel_err * 100"
   ],
   "metadata": {
    "id": "UhPBtvxdp6q9"
   },
   "execution_count": null,
   "outputs": []
  },
  {
   "cell_type": "markdown",
   "source": [
    "Testing 1.in"
   ],
   "metadata": {
    "id": "xfiWIiOQqFkX"
   }
  },
  {
   "cell_type": "code",
   "source": [
    "inputs = [0,1,3]\n",
    "lst=[int(i) for i in inputs]\n",
    "output = relative_error(lst)\n",
    "print(f\"{output}\")"
   ],
   "metadata": {
    "id": "UvfBb9rMqAJP"
   },
   "execution_count": null,
   "outputs": []
  },
  {
   "cell_type": "markdown",
   "source": [
    "Testing 2.in"
   ],
   "metadata": {
    "id": "ojuFdsR4qK6N"
   }
  },
  {
   "cell_type": "code",
   "source": [
    "inputs = [0,2,3,5,6]\n",
    "lst=[int(i) for i in inputs]\n",
    "output = relative_error(lst)\n",
    "print(f\"{output}\")"
   ],
   "metadata": {
    "id": "zAuhFa12qMmn"
   },
   "execution_count": null,
   "outputs": []
  }
 ]
}