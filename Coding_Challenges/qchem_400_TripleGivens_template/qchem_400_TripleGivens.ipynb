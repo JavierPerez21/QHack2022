{
  "nbformat": 4,
  "nbformat_minor": 0,
  "metadata": {
    "colab": {
      "name": "qchem_400_TripleGivens.ipynb",
      "provenance": [],
      "authorship_tag": "ABX9TyOpsJXGD97+JQZEPPAjvI4/",
      "include_colab_link": true
    },
    "kernelspec": {
      "name": "python3",
      "display_name": "Python 3"
    },
    "language_info": {
      "name": "python"
    }
  },
  "cells": [
    {
      "cell_type": "markdown",
      "metadata": {
        "id": "view-in-github",
        "colab_type": "text"
      },
      "source": [
        "<a href=\"https://colab.research.google.com/github/JavierPerez21/QHack2022/blob/master/qchem_400_TripleGivens.ipynb\" target=\"_parent\"><img src=\"https://colab.research.google.com/assets/colab-badge.svg\" alt=\"Open In Colab\"/></a>"
      ]
    },
    {
      "cell_type": "code",
      "execution_count": 1,
      "metadata": {
        "id": "OI2Vimd-QiPr"
      },
      "outputs": [],
      "source": [
        "%%capture \n",
        "!pip install pennylane"
      ]
    },
    {
      "cell_type": "code",
      "source": [
        "import pennylane as qml\n",
        "from pennylane import numpy as np"
      ],
      "metadata": {
        "id": "27ipr08RQqu9"
      },
      "execution_count": 2,
      "outputs": []
    },
    {
      "cell_type": "markdown",
      "source": [
        "[Givens rotations](https://pennylane.ai/qml/demos/tutorial_givens_rotations.html) are special particle preserving gates used in Quantum Chemistry. Given how the Single Excitation and Double Excitation Givens work, the goal in this challenge is to create a Triple Givens Excitation Gate and use them to create the circuit:\n",
        "\n",
        "$$\n",
        "|\\psi ( \\alpha, \\beta, \\gamma) \\rangle = cos \\frac{\\alpha}{2} cos \\frac{\\beta}{2} \\left[ cos \\frac{\\gamma}{2} |111000\\rangle - sin \\frac{\\gamma}{2} |000111\\rangle\\right] - cos \\frac{\\alpha}{2} sin \\frac{\\beta}{2} |001011\\rangle - sin \\frac{\\alpha}{2} |011001\\rangle\n",
        "$$"
      ],
      "metadata": {
        "id": "nQVWL9XXQ9DV"
      }
    },
    {
      "cell_type": "markdown",
      "source": [
        "First, let's understand how to create the Triple Givens Excitation gate. Our requirements are the following:\n",
        " \n",
        "$$\n",
        "G^3(\\theta) |111000\\rangle = cos \\frac{\\theta}{2} |111000\\rangle - sin \\frac{\\theta}{2} |000111\\rangle \\\\\n",
        "G^3(\\theta) |000111\\rangle = cos \\frac{\\theta}{2} |000111\\rangle + sin \\frac{\\theta}{2} |111000\\rangle\n",
        "$$ \n",
        "\n",
        "It's easy to see waht we are only working with the states $|111000\\rangle$ and $|000111\\rangle$ or, using their decimal representation, 56 and 7.\n",
        "\n",
        "Here's how we obtain this behaviour:"
      ],
      "metadata": {
        "id": "-CU-G4DdSBC6"
      }
    },
    {
      "cell_type": "code",
      "source": [
        "def triple_excitation_matrix(gamma):\n",
        "    \"\"\"The matrix representation of a triple-excitation Givens rotation.\n",
        "\n",
        "    Args:\n",
        "        - gamma (float): The angle of rotation\n",
        "\n",
        "    Returns:\n",
        "        - (np.ndarray): The matrix representation of a triple-excitation\n",
        "    \"\"\"\n",
        "\n",
        "    # QHACK #\n",
        "    # Generate coefficients\n",
        "    c = qml.math.cos(gamma / 2)\n",
        "    s = qml.math.sin(gamma / 2)\n",
        "    # Start with a diagonal matrix\n",
        "    mat = qml.math.diag([1.0] * (2 ** NUM_WIRES))\n",
        "    # Decimal representations of states\n",
        "    i, j = 7, 56\n",
        "    # Alter matrix values that alter only the states 7 and 56\n",
        "    mat[i, i] = c\n",
        "    mat[i, j] = -s\n",
        "    mat[j, i] = s\n",
        "    mat[j, j] = c\n",
        "    return mat"
      ],
      "metadata": {
        "id": "TQCWgd-QTU-M"
      },
      "execution_count": 3,
      "outputs": []
    },
    {
      "cell_type": "markdown",
      "source": [
        "Now that we have the circuit, it is easy that we can obtain the desired state as follows:\n",
        "\n",
        "1. Initialize the system in the state $|111000\\rangle$:\n",
        "$$\n",
        "|\\psi\\rangle = |111000\\rangle\n",
        "$$\n",
        "\n",
        "2. Apply a single excitation gate on qubits 0 and 5:\n",
        "$$\n",
        "|\\psi (\\alpha) \\rangle = G¹_{0, 5}(\\alpha) |\\psi\\rangle = G¹_{0, 5}(\\alpha) |111000\\rangle = cos \\frac{\\theta}{2} |111000\\rangle - sin \\frac{\\theta}{2} |011001\\rangle\n",
        "$$\n",
        "\n",
        "3. Apply a double excitation gate on qubits, 0, 1, 4 and 5:\n",
        "$$\n",
        "|\\psi (\\alpha, \\beta) \\rangle = G^2_{0, 1, 4, 5}(\\beta) |\\psi (\\alpha) \\rangle = G^2_{0, 1, 4, 5}(\\beta) \\left( cos \\frac{\\theta}{2} |111000\\rangle - sin \\frac{\\theta}{2} |011001\\rangle \\right) = \\\\ \n",
        "cos \\frac{\\theta}{2} G^2_{0, 1, 4, 5}(\\beta) |111000\\rangle - sin \\frac{\\theta}{2} |011001\\rangle = \\\\\n",
        "cos \\frac{\\theta}{2} \\left( cos \\frac{\\beta}{2} |111000\\rangle  - sin \\frac{\\beta}{2} |001011\\rangle \\right) - sin \\frac{\\theta}{2} |011001\\rangle = \\\\\n",
        "cos \\frac{\\theta}{2} cos \\frac{\\beta}{2} |111000\\rangle  - cos \\frac{\\theta}{2} sin \\frac{\\beta}{2} |001011\\rangle - sin \\frac{\\theta}{2} |011001\\rangle\n",
        "$$\n",
        "\n",
        "3. Apply the triple excitation gate on all qubits:\n",
        "$$ \n",
        "|\\psi (\\alpha, \\beta, \\gamma) \\rangle = G³(\\gamma) |\\psi (\\alpha, \\beta) \\rangle = G³(\\gamma) \\left[ cos \\frac{\\theta}{2} cos \\frac{\\beta}{2} |111000\\rangle  - cos \\frac{\\theta}{2} sin \\frac{\\beta}{2} |001011\\rangle - sin \\frac{\\theta}{2} |011001\\rangle \\right] = \\\\\n",
        "cos \\frac{\\theta}{2} cos \\frac{\\beta}{2} G³(\\gamma) |111000\\rangle  - cos \\frac{\\theta}{2} sin \\frac{\\beta}{2} |001011\\rangle - sin \\frac{\\theta}{2} |011001\\rangle = \\\\\n",
        "cos \\frac{\\theta}{2} cos \\frac{\\beta}{2} \\left[ cos \\frac{\\gamma}{2}|111000\\rangle - sin \\frac{\\gamma}{2}|000111\\rangle  \\right] - cos \\frac{\\theta}{2} sin \\frac{\\beta}{2} |001011\\rangle - sin \\frac{\\theta}{2} |011001\\rangle\n",
        "$$\n",
        "\n",
        "Arriving at the desired state."
      ],
      "metadata": {
        "id": "ZgcjQFhRTv5f"
      }
    },
    {
      "cell_type": "code",
      "source": [
        "dev = qml.device(\"default.qubit\", wires=6)\n",
        "NUM_WIRES = 6\n",
        "\n",
        "@qml.qnode(dev)\n",
        "def circuit(angles):\n",
        "    \"\"\"Prepares the quantum state in the problem statement and returns qml.probs\n",
        "\n",
        "    Args:\n",
        "        - angles (list(float)): The relevant angles in the problem statement in this order:\n",
        "        [alpha, beta, gamma]\n",
        "\n",
        "    Returns:\n",
        "        - (np.tensor): The probability of each computational basis state\n",
        "    \"\"\"\n",
        "    # QHACK #\n",
        "    alpha, beta, gamma = angles[0], angles[1], angles[2]\n",
        "    # Initialize state\n",
        "    qml.BasisState(np.array([1, 1, 1, 0, 0, 0]), wires=[0, 1, 2, 3, 4, 5])\n",
        "    # SingleExcitation gate\n",
        "    qml.SingleExcitation(alpha, wires=[0, 5])\n",
        "    # DoubleExcitation gate\n",
        "    qml.DoubleExcitation(beta, wires=[0, 1, 4, 5])\n",
        "    # TripleExcitation gate from our implementation\n",
        "    qml.QubitUnitary(triple_excitation_matrix(gamma), wires=[0, 1, 2, 3, 4, 5])\n",
        "    # QHACK #\n",
        "    return qml.probs(wires=range(NUM_WIRES))"
      ],
      "metadata": {
        "id": "KNoHjG_pWsBu"
      },
      "execution_count": 7,
      "outputs": []
    },
    {
      "cell_type": "markdown",
      "source": [
        "Testing with 1.in"
      ],
      "metadata": {
        "id": "C5HjoBpgW8jd"
      }
    },
    {
      "cell_type": "code",
      "source": [
        "inputs = \"2.71035258,2.86582337,4.46182774\".split(\",\")\n",
        "inputs = np.array(inputs, dtype=float)\n",
        "probs = circuit(inputs).round(6)\n",
        "\n",
        "# We interested in the states |111000> = 56, |000111> = 7, |001011> = 11 and |011001> = 25\n",
        "a, b, g = inputs[0], inputs[1], inputs[2]\n",
        "p_56 = probs[56]\n",
        "p_7 = probs[7]\n",
        "p_11 = probs[11]\n",
        "p_25 = probs[25]\n",
        "print(f\"Measured prob |111000> {p_56} vs expected {(np.cos(a/2)*np.cos(b/2)*np.cos(g/2))**2}\")\n",
        "print(f\"Measured prob |000111> {p_7} vs expected {(np.cos(a/2)*np.cos(b/2)*np.sin(g/2))**2}\")\n",
        "print(f\"Measured prob |001011> {p_11} vs expected {(np.cos(a/2)*np.sin(b/2))**2}\")\n",
        "print(f\"Measured prob |011001> {p_25} vs expected {(np.sin(a/2))**2}\")"
      ],
      "metadata": {
        "colab": {
          "base_uri": "https://localhost:8080/"
        },
        "id": "W5T5MUahW6SH",
        "outputId": "0bd5f11e-c263-4441-855e-52383cb6921d"
      },
      "execution_count": 21,
      "outputs": [
        {
          "output_type": "stream",
          "name": "stdout",
          "text": [
            "Measured prob |111000> 0.000325 vs expected 0.0003251869843297567\n",
            "Measured prob |000111> 0.00054 vs expected 0.0005396118866232372\n",
            "Measured prob |001011> 0.044911 vs expected 0.04491115090944501\n",
            "Measured prob |011001> 0.954224 vs expected 0.9542240502196021\n"
          ]
        }
      ]
    },
    {
      "cell_type": "markdown",
      "source": [
        "We can also test any random angle configuration"
      ],
      "metadata": {
        "id": "L1HwbxfcZmyj"
      }
    },
    {
      "cell_type": "code",
      "source": [
        "inputs = (np.random.rand(3)*2-1)*2*np.pi\n",
        "probs = circuit(inputs).round(6)\n",
        "\n",
        "# We interested in the states |111000> = 56, |000111> = 7, |001011> = 11 and |011001> = 25\n",
        "a, b, g = inputs[0], inputs[1], inputs[2]\n",
        "p_56 = probs[56]\n",
        "p_7 = probs[7]\n",
        "p_11 = probs[11]\n",
        "p_25 = probs[25]\n",
        "print(f\"Measured prob |111000> {p_56} vs expected {(np.cos(a/2)*np.cos(b/2)*np.cos(g/2))**2}\")\n",
        "print(f\"Measured prob |000111> {p_7} vs expected {(np.cos(a/2)*np.cos(b/2)*np.sin(g/2))**2}\")\n",
        "print(f\"Measured prob |001011> {p_11} vs expected {(np.cos(a/2)*np.sin(b/2))**2}\")\n",
        "print(f\"Measured prob |011001> {p_25} vs expected {(np.sin(a/2))**2}\")"
      ],
      "metadata": {
        "colab": {
          "base_uri": "https://localhost:8080/"
        },
        "id": "WPQ_xB-MZqbF",
        "outputId": "acf981e4-364b-4854-d0a6-9caf99ac999c"
      },
      "execution_count": 42,
      "outputs": [
        {
          "output_type": "stream",
          "name": "stdout",
          "text": [
            "Measured prob |111000> 0.192114 vs expected 0.192114174145664\n",
            "Measured prob |000111> 0.135426 vs expected 0.13542555314550161\n",
            "Measured prob |001011> 0.580818 vs expected 0.5808182086967335\n",
            "Measured prob |011001> 0.091642 vs expected 0.09164206401210083\n"
          ]
        }
      ]
    }
  ]
}