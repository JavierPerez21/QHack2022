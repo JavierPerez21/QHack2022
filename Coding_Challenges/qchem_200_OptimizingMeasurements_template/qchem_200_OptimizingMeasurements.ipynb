{
  "nbformat": 4,
  "nbformat_minor": 0,
  "metadata": {
    "colab": {
      "name": "qchem_200_OptimizingMeasurements.ipynb",
      "private_outputs": true,
      "provenance": [],
      "authorship_tag": "ABX9TyNZuNBVINV1447bv2BRBIC2",
      "include_colab_link": true
    },
    "kernelspec": {
      "name": "python3",
      "display_name": "Python 3"
    },
    "language_info": {
      "name": "python"
    }
  },
  "cells": [
    {
      "cell_type": "markdown",
      "metadata": {
        "id": "view-in-github",
        "colab_type": "text"
      },
      "source": [
        "<a href=\"https://colab.research.google.com/github/JavierPerez21/QHack2022/blob/master/qchem_200_OptimizingMeasurements.ipynb\" target=\"_parent\"><img src=\"https://colab.research.google.com/assets/colab-badge.svg\" alt=\"Open In Colab\"/></a>"
      ]
    },
    {
      "cell_type": "markdown",
      "source": [
        "Given an arbitrary Hamiltonian, we cannot calculate its expectation value directly: we usually decompose the Hamiltonian into a linear combination\n",
        "of Pauli words (e.g., qml.PauliZ(0) @ qml.PauliX(1) @ qml.PauliY(2)). In this way, we can calculate the expected value of each of these Pauli words, add\n",
        "them up, and obtain the expectation value of the Hamiltonian.\n",
        "\n",
        "The number of circuits required in a general Hamiltonian grows like O(N4), where N is the\n",
        "number of qubits. Therefore, it is desirable to look for techniques that reduce this scaling. In this challenge we will work with a very simple technique. There are two rules we can play with:\n",
        "1. If two circuits do not intersect in any of their measurement qubits, they could be executed at the same time\n",
        "2. If two circuits intersect in some of their measurement qubits but the measurement operators also coincide in all of them, they can be joined\n",
        "\n",
        "This challenge consists in compressing the number of measurements needed for some given Hamiltonians using these two rules by completing three functions.\n",
        "\n"
      ],
      "metadata": {
        "id": "pO3YUF6mKQzf"
      }
    },
    {
      "cell_type": "code",
      "source": [
        "def check_simplification(op1, op2):\n",
        "    \"\"\"As we have seen in the problem statement, given two Pauli operators, you could obtain the expected value\n",
        "    of each of them by running a single circuit following the two defined rules. This function will determine whether,\n",
        "    given two Pauli operators, such a simplification can be produced.\n",
        "\n",
        "    Args:\n",
        "        - op1 (list(str)): First Pauli word (list of Pauli operators), e.g., [\"Y\", \"I\", \"Z\", \"I\"].\n",
        "        - op2 (list(str)): Second Pauli word (list of Pauli operators), e.g., [\"Y\", \"I\", \"X\", \"I\"].\n",
        "\n",
        "    Returns:\n",
        "        - (bool): 'True' if we can simplify them, 'False' otherwise. For the example args above, the third qubit does not allow simplification, so the function would return `False`.\n",
        "    \"\"\"\n",
        "\n",
        "    # QHACK\n",
        "    for i in range(len(op1)):\n",
        "        # If one of the operators is I, we can simplify that operation\n",
        "        # If the two operators are the same, we can also simplify\n",
        "        # We can only not simplify when the two operators are different to each other and none of them is I\n",
        "        if op1[i] != \"I\" and op2[i] != \"I\":\n",
        "            if op1[i] != op2[i]:\n",
        "                return False\n",
        "    # QHACK\n",
        "    return True"
      ],
      "metadata": {
        "id": "UusgdNdwK9Ld"
      },
      "execution_count": null,
      "outputs": []
    },
    {
      "cell_type": "code",
      "source": [
        "def join_operators(op1, op2):\n",
        "    \"\"\"This function will receive two operators that we know can be simplified\n",
        "    and returns the operator corresponding to the union of the two previous ones.\n",
        "\n",
        "    Args:\n",
        "        - op1 (list(str)): First Pauli word (list of Pauli operators), e.g., [\"Y\", \"I\", \"Z\", \"I\"].\n",
        "        - op2 (list(str)): Second Pauli word (list of Pauli operators), e.g., [\"Y\", \"I\", \"X\", \"I\"].\n",
        "\n",
        "    Returns:\n",
        "        - (list(str)): Pauli operator corresponding to the union of op1 and op2.\n",
        "        For the case above the output would be [\"Y\", \"X\", \"Z\", \"I\"]\n",
        "    \"\"\"\n",
        "\n",
        "    # QHACK\n",
        "    output = []\n",
        "    for i in range(len(op1)):\n",
        "        # Since we know that the operators can be simplified we only need to worry about adapting the Is\n",
        "        # The solution is simple, whenever the ith operator of word 1 is I, we will choose th other 1 as rule 1 suggests\n",
        "        if op1[i] == \"I\":\n",
        "            output.append(op2[i])\n",
        "        else:\n",
        "            output.append(op1[i])\n",
        "    # QHACK\n",
        "    return output"
      ],
      "metadata": {
        "id": "3C4qZOV6LaZ2"
      },
      "execution_count": null,
      "outputs": []
    },
    {
      "cell_type": "code",
      "source": [
        "def compression_ratio(obs_hamiltonian, final_solution):\n",
        "    \"\"\"Function that calculates the compression ratio of the procedure.\n",
        "\n",
        "    Args:\n",
        "        - obs_hamiltonian (list(list(str))): Groups of Pauli operators making up the Hamiltonian.\n",
        "        - final_solution (list(list(str))): Your final selection of observables.\n",
        "\n",
        "    Returns:\n",
        "        - (float): Compression ratio your solution.\n",
        "    \"\"\"\n",
        "\n",
        "    # QHACK\n",
        "    # Simply apply the given formula\n",
        "    return 1 - len(final_solution) / len(obs_hamiltonian)\n",
        "    # QHACK"
      ],
      "metadata": {
        "id": "hRwan89eMhDS"
      },
      "execution_count": null,
      "outputs": []
    },
    {
      "cell_type": "code",
      "source": [
        "def optimize_measurements(obs_hamiltonian):\n",
        "    \"\"\"This function will go through the list of Pauli words provided in the statement, grouping the operators\n",
        "    following the simplification process of the previous functions.\n",
        "\n",
        "    Args:\n",
        "        - obs_hamiltonian (list(list(str))): Groups of Pauli words making up the Hamiltonian.\n",
        "\n",
        "    Returns:\n",
        "        - (list(list(str))): The chosen Pauli operators to measure after grouping.\n",
        "    \"\"\"\n",
        "\n",
        "    final_solution = []\n",
        "\n",
        "    for op1 in obs_hamiltonian:\n",
        "        added = False\n",
        "        for i, op2 in enumerate(final_solution):\n",
        "\n",
        "            if check_simplification(op1, op2):\n",
        "                final_solution[i] = join_operators(op1, op2)\n",
        "                added = True\n",
        "                break\n",
        "        if not added:\n",
        "            final_solution.append(op1)\n",
        "\n",
        "    return final_solution"
      ],
      "metadata": {
        "id": "pM_Zs71HMqJq"
      },
      "execution_count": null,
      "outputs": []
    },
    {
      "cell_type": "markdown",
      "source": [
        "Testing 1.in"
      ],
      "metadata": {
        "id": "NMYxYLkhNABy"
      }
    },
    {
      "cell_type": "code",
      "source": [
        "inputs = \"4,Z,I,I,I,Z,Y,I,I,X,I,X,Y,I,Z,I,I\".split(\",\")\n",
        "obs_hamiltonian = []\n",
        "aux = []\n",
        "for i, line in enumerate(inputs):\n",
        "    if i == 0:\n",
        "        first = int(line)\n",
        "    else:\n",
        "        aux.append(line[0])\n",
        "        if i % first == 0:\n",
        "            obs_hamiltonian.append(aux)\n",
        "            aux = []\n",
        "\n",
        "output = optimize_measurements(obs_hamiltonian)\n",
        "print(\"Compression ratio:\", compression_ratio(obs_hamiltonian, output))"
      ],
      "metadata": {
        "id": "4JpVxdOWMumc"
      },
      "execution_count": null,
      "outputs": []
    },
    {
      "cell_type": "markdown",
      "source": [
        "Testing 2.in"
      ],
      "metadata": {
        "id": "-aCRmBMOM9CC"
      }
    },
    {
      "cell_type": "code",
      "source": [
        "inputs = \"4,Z,X,I,I,Z,Y,I,I,X,I,X,Y,I,Z,I,I\".split(\",\")\n",
        "obs_hamiltonian = []\n",
        "aux = []\n",
        "for i, line in enumerate(inputs):\n",
        "    if i == 0:\n",
        "        first = int(line)\n",
        "    else:\n",
        "        aux.append(line[0])\n",
        "        if i % first == 0:\n",
        "            obs_hamiltonian.append(aux)\n",
        "            aux = []\n",
        "\n",
        "output = optimize_measurements(obs_hamiltonian)\n",
        "print(\"Compression ratio:\", compression_ratio(obs_hamiltonian, output))"
      ],
      "metadata": {
        "id": "6hLqWR4ONC3Y"
      },
      "execution_count": null,
      "outputs": []
    }
  ]
}