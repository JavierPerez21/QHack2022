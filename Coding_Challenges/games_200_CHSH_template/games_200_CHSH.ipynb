{
 "nbformat": 4,
 "nbformat_minor": 0,
 "metadata": {
  "colab": {
   "name": "games_200_CHSH.ipynb",
   "private_outputs": true,
   "provenance": [],
   "authorship_tag": "ABX9TyNP83kZyF4ke+s6RMEz8qaT",
   "include_colab_link": true
  },
  "kernelspec": {
   "name": "python3",
   "display_name": "Python 3"
  },
  "language_info": {
   "name": "python"
  }
 },
 "cells": [
  {
   "cell_type": "markdown",
   "metadata": {
    "id": "view-in-github",
    "colab_type": "text"
   },
   "source": [
    "<a href=\"https://colab.research.google.com/github/JavierPerez21/QHack2022/blob/master/Coding_Challenges/games_200_CHSH_template/games_200_CHSH.ipynb\" target=\"_parent\"><img src=\"https://colab.research.google.com/assets/colab-badge.svg\" alt=\"Open In Colab\"/></a>"
   ]
  },
  {
   "cell_type": "code",
   "execution_count": null,
   "metadata": {
    "id": "LEnswCzs9iTh"
   },
   "outputs": [],
   "source": [
    "%%capture\n",
    "!pip install pennylane"
   ]
  },
  {
   "cell_type": "code",
   "source": [
    "import pennylane as qml\n",
    "from pennylane import numpy as np\n",
    "dev = qml.device(\"default.qubit\", wires=2)"
   ],
   "metadata": {
    "id": "JP2As3_I_8ZM"
   },
   "execution_count": null,
   "outputs": []
  },
  {
   "cell_type": "markdown",
   "source": [
    "The goal of this challenge is to calculate the probability of winning the CHSH game when playing with the optimal quantum strategy.  \n",
    "\n",
    "The game is collaborative between two parties, Alice and Bob, who are given two random bits x and y, where x is known by Alice and y is known by Bob. Alice and Bob will additionally select two values, a and b, which can be 0 or 1, and will win if $x · y=a \\oplus b$ where $\\oplus$ represents addition modulo 2. Since the probability of x · y = 0 is 75%, the best classical strategy is that both of them previously agree on choosing either a, b = 0, 0 or 1, 1, ignoring the bits they received.\n",
    "\n",
    "Now assume that Alice and Bob have access to an entangled pair of qubits.\n",
    "\n",
    "$$\n",
    "|\\psi\\rangle\\otimes = \\alpha |00\\rangle + \\beta |11\\rangle \n",
    "$$\n",
    "\n",
    "They can separately choose a measurement basis:\n",
    "\n",
    "$$\n",
    "|v_0(\\theta)\\rangle = cos\\theta |0\\rangle + sin \\theta|1\\rangle\n",
    "$$\n",
    "\n",
    "$$\n",
    "|v_1(\\theta)\\rangle = -sin\\theta |0\\rangle + cos \\theta|1\\rangle\n",
    "$$\n",
    "\n",
    "For her basis, Alice chooses $\\theta = \\theta_{A0}$ if she receives $x = 0$, and $θ = θ_{A1}$ if she\n",
    "receives $x = 1$. Similarly, Bob will choose $θ = θ_{B0}$ if $y = 0$ and $θ = θ_{B1}$ if $y = 1$.\n",
    "Having chosen their angles that define their respective measurement bases, they\n",
    "measure $|\\psi\\rangle$ If Alice’s measurement result corresponds to ν 0 (ν 1 ), she chooses\n",
    "a = 0 (1). Bob’s choice is made in a similar fashion.\n",
    "\n",
    "This can be a bit confusing but, in summary, the goal of the challenge is to find the optimal angles $\\theta_{A0}$, $\\theta_{A1}$, $\\theta_{B0}$ and $\\theta_{B1}$ that will maximize their probability of winning. To do this we need to complete the functions `prepare_entangled` which prepares $|\\psi\\rangle$, `chsh_circuit` which simply implements Alice's and Bob's measurements based on the optimal angles and x and y, `winning_prob`which calculates the probability of winning based on the selectad angles, $\\alpha$ and $\\beta$ and lastly `optimize` which finds the optimal angles to use for a given entangled qubit pair $|\\psi\\rangle$."
   ],
   "metadata": {
    "id": "XHRtw-Ab90Rt"
   }
  },
  {
   "cell_type": "code",
   "source": [
    "def prepare_entangled(alpha, beta):\n",
    "    \"\"\"Construct a circuit that prepares the (not necessarily maximally) entangled state in terms of alpha and beta\n",
    "    Do not forget to normalize.\n",
    "\n",
    "    Args:\n",
    "        - alpha (float): real coefficient of |00>\n",
    "        - beta (float): real coefficient of |11>\n",
    "    \"\"\"\n",
    "    \n",
    "    # QHACK #\n",
    "    #Normalize alpha and beta such that |alpha|^2 + |beta|^2 = 1\n",
    "    alpha_normalized = alpha/np.sqrt(alpha**2 + beta**2)\n",
    "    beta_normalized = beta/np.sqrt(alpha**2 + beta**2)\n",
    "    #Create a state psi = alpha |00> + beta |11>\n",
    "    qml.QubitStateVector(np.array([alpha_normalized, 0, 0, beta_normalized]), wires=[0,1])\n",
    "    # QHACK #"
   ],
   "metadata": {
    "id": "0nXrDI_T__Qp"
   },
   "execution_count": null,
   "outputs": []
  },
  {
   "cell_type": "code",
   "source": [
    "@qml.qnode(dev)\n",
    "def chsh_circuit(theta_A0, theta_A1, theta_B0, theta_B1, x, y, alpha, beta):\n",
    "    \"\"\"Construct a circuit that implements Alice's and Bob's measurements in the rotated bases\n",
    "\n",
    "    Args:\n",
    "        - theta_A0 (float): angle that Alice chooses when she receives x=0\n",
    "        - theta_A1 (float): angle that Alice chooses when she receives x=1\n",
    "        - theta_B0 (float): angle that Bob chooses when he receives x=0\n",
    "        - theta_B1 (float): angle that Bob chooses when he receives x=1\n",
    "        - x (int): bit received by Alice\n",
    "        - y (int): bit received by Bob\n",
    "        - alpha (float): real coefficient of |00>\n",
    "        - beta (float): real coefficient of |11>\n",
    "\n",
    "    Returns:\n",
    "        - (np.tensor): Probabilities of each basis state\n",
    "    \"\"\"\n",
    "    prepare_entangled(alpha, beta)\n",
    "    # QHACK #\n",
    "    # We need to transform |0> and |1> into the basis states |v0> and |v1>\n",
    "    # Where |v0> =  cos(theta) |0> + sin(theta) |1>\n",
    "    #       |v1> = -sin(theta) |0> + cos(theta) |1>\n",
    "    # This can be done by a rotation around the y-axis by theta\n",
    "    # Alice chooses theta_A0 when x = 0 and theta_A1 when x = 1\n",
    "    # Bob chooses theta_B0 when y = 0 and theta_B1 when y = 1\n",
    "    qml.RY(theta_A0*(1-x) + theta_A1*x, wires=0)\n",
    "    qml.RY(theta_B0*(1-y) + theta_B1*y, wires=1)\n",
    "    # QHACK #\n",
    "    return qml.probs(wires=[0, 1])"
   ],
   "metadata": {
    "id": "Su6qJcrwAVsO"
   },
   "execution_count": null,
   "outputs": []
  },
  {
   "cell_type": "code",
   "source": [
    "def winning_prob(params, alpha, beta):\n",
    "    \"\"\"Define a function that returns the probability of Alice and Bob winning the game.\n",
    "\n",
    "    Args:\n",
    "        - params (list(float)): List containing [theta_A0,theta_A1,theta_B0,theta_B1]\n",
    "        - alpha (float): real coefficient of |00>\n",
    "        - beta (float): real coefficient of |11>\n",
    "\n",
    "    Returns:\n",
    "        - (float): Probability of winning the game\n",
    "    \"\"\"\n",
    "\n",
    "    # QHACK #\n",
    "\n",
    "    # Sometimes pennylane passed params as a AutoGrad object and other times as a numpy array. Weird.\n",
    "    probability_of_win = 0\n",
    "    \"\"\"\n",
    "    #    theta_A0,theta_A1,theta_B0,theta_B1 = params[0], params[1], params[2], params[3]\n",
    "    # There are four scenarios, (x,y) = (0,0), (0,1), (1,0), (1,1) each with a 1/4 probability\n",
    "    prob00 = chsh_circuit(params[0], params[1], params[2], params[3], 0, 0, alpha, beta)\n",
    "    prob01 = chsh_circuit(params[0], params[1], params[2], params[3], 0, 1, alpha, beta)\n",
    "    prob10 = chsh_circuit(params[0], params[1], params[2], params[3], 1, 0, alpha, beta)\n",
    "    prob11 = chsh_circuit(params[0], params[1], params[2], params[3], 1, 1, alpha, beta)\n",
    "    _probability_given_xy = np.zeros(4, dtype=float)\n",
    "    # x*y = 0 when (x,y) = (0,0), (0,1), (1,0)\n",
    "    # If x*y = 0, the probability of winning is the probability of a = 0 and b = 0 or a = 1 and b = 1\n",
    "    # This is the probability of measuring |00> + probability of measuring |11>\n",
    "    _probability_given_xy[0] = prob00[0] + prob00[3]\n",
    "    _probability_given_xy[1] = prob01[0] + prob01[3]\n",
    "    _probability_given_xy[2] = prob10[0] + prob10[3]\n",
    "    # x*y = 1 when (x,y) = (1,1)\n",
    "    # If x*y = 1, the probability of winning is the probability of a = 0 and b = 1 or a = 1 and b = 0\n",
    "    # This is the probability of measuring |01> + probability of measuring |10>\n",
    "    _probability_given_xy[3] = prob11[1] + prob11[2]\n",
    "    # The total probability of winning is the sum of the probabilities of each scenario * 1/4\n",
    "    _probability_of_win = 0.25*np.sum(_probability_given_xy)\n",
    "    \"\"\"\n",
    "    # The code above calcualtes the correct probability but, since it initializes a new vector to compute the probability of winning, we won't\n",
    "    # be able to trace the gradient back to the parameters when we want to optimize them so it requires you to do a naive search over the parameter space\n",
    "    # Instead we can do this, which produces the same result, and works with pennylane optimizes\n",
    "    for x in [0, 1]:\n",
    "      for y in [0, 1]:\n",
    "        win_prob = chsh_circuit(params[0], params[1], params[2], params[3], x, y, alpha, beta)\n",
    "        probability_of_win += 0.25 * (x*y*(win_prob[1] + win_prob[2]) + (1- x*y)*(win_prob[0]+win_prob[3]) )\n",
    "    return probability_of_win"
   ],
   "metadata": {
    "id": "vadY8dO_AoE4"
   },
   "execution_count": null,
   "outputs": []
  },
  {
   "cell_type": "code",
   "source": [
    "def optimize(alpha, beta):\n",
    "    \"\"\"Define a function that optimizes theta_A0, theta_A1, theta_B0, theta_B1 to maximize the probability of winning the game\n",
    "\n",
    "    Args:\n",
    "        - alpha (float): real coefficient of |00>\n",
    "        - beta (float): real coefficient of |11>\n",
    "\n",
    "    Returns:\n",
    "        - (float): Probability of winning\n",
    "    \"\"\"\n",
    "\n",
    "    def cost(params):\n",
    "        \"\"\"Define a cost function that only depends on params, given alpha and beta fixed\"\"\"\n",
    "        # The optimizer will minimize the loss. Since we want to maximize the probability, we\n",
    "        # can just minimize the negative of the probability\n",
    "        return -winning_prob(params, alpha, beta)\n",
    "    # QHACK #\n",
    "\n",
    "    #Initialize parameters, choose an optimization method and number of steps\n",
    "    init_params = np.random.uniform(low=0, high=2 * np.pi, size=(4))\n",
    "    opt = qml.optimize.AdamOptimizer(stepsize=0.1)\n",
    "    steps = 200\n",
    "\n",
    "    # QHACK #\n",
    "    \n",
    "    # set the initial parameter values\n",
    "    params = init_params\n",
    "\n",
    "    win_prob = 0\n",
    "    params_hist = []\n",
    "    prob_hist = []\n",
    "    for i in range(steps):\n",
    "        # QHACK #\n",
    "        # Optimize parameters and get cost\n",
    "        params, loss =  opt.step_and_cost(cost, params)\n",
    "        params_hist.append(params)\n",
    "        prob_hist.append(-loss)\n",
    "        if i % 10 == 0:\n",
    "          # Print current probability\n",
    "          print(f\"Epoch {i} with prob: {prob_hist[-1]}\")\n",
    "        # If probability is not improving, stop training\n",
    "        if i> 10 and abs(prob_hist[-1] - prob_hist[-10]) < 1e-6:\n",
    "          print()\n",
    "          break\n",
    "        # QHACK #\n",
    "\n",
    "    return winning_prob(params, alpha, beta)"
   ],
   "metadata": {
    "id": "ycfoTITXBGtH"
   },
   "execution_count": null,
   "outputs": []
  },
  {
   "cell_type": "markdown",
   "source": [
    "Testing with 1.in"
   ],
   "metadata": {
    "id": "6L_ZX8ZE2L0U"
   }
  },
  {
   "cell_type": "code",
   "source": [
    "inputs = [1,1]\n",
    "winprob = optimize(float(inputs[0]), float(inputs[1]))\n",
    "print(f\"Probability of winning is {winprob}\")"
   ],
   "metadata": {
    "id": "5C-dw6ApBjwJ"
   },
   "execution_count": null,
   "outputs": []
  },
  {
   "cell_type": "markdown",
   "source": [
    "Testing with 2.in"
   ],
   "metadata": {
    "id": "nzlkK7sd2OwN"
   }
  },
  {
   "cell_type": "code",
   "source": [
    "inputs = [1,0]\n",
    "winprob = optimize(float(inputs[0]), float(inputs[1]))\n",
    "print(f\"Probability of winning is {winprob}\")"
   ],
   "metadata": {
    "id": "xMy3jLXY2Q_9"
   },
   "execution_count": null,
   "outputs": []
  }
 ]
}