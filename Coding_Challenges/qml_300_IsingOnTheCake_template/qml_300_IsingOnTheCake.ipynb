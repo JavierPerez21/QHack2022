{
  "nbformat": 4,
  "nbformat_minor": 0,
  "metadata": {
    "colab": {
      "name": "qml_300_IsingOnTheCake.ipynb",
      "private_outputs": true,
      "provenance": [],
      "authorship_tag": "ABX9TyPAJwq7DpUFyN3LkrZvdlw0",
      "include_colab_link": true
    },
    "kernelspec": {
      "name": "python3",
      "display_name": "Python 3"
    },
    "language_info": {
      "name": "python"
    }
  },
  "cells": [
    {
      "cell_type": "markdown",
      "metadata": {
        "id": "view-in-github",
        "colab_type": "text"
      },
      "source": [
        "<a href=\"https://colab.research.google.com/github/JavierPerez21/QHack2022/blob/master/qml_300_IsingOnTheCake.ipynb\" target=\"_parent\"><img src=\"https://colab.research.google.com/assets/colab-badge.svg\" alt=\"Open In Colab\"/></a>"
      ]
    },
    {
      "cell_type": "code",
      "execution_count": null,
      "metadata": {
        "id": "9JWP-1TkoG05"
      },
      "outputs": [],
      "source": [
        "%%capture\n",
        "!pip install pennylane"
      ]
    },
    {
      "cell_type": "code",
      "source": [
        "import pennylane as qml\n",
        "from pennylane import numpy as np\n",
        "import pennylane.optimize as optimize\n",
        "\n",
        "DATA_SIZE = 250"
      ],
      "metadata": {
        "id": "uluKRfOpo4EL"
      },
      "execution_count": null,
      "outputs": []
    },
    {
      "cell_type": "markdown",
      "source": [
        "Following the ideas from [this paper](https://www.nature.com/articles/nphys4035), the goal of this challenge is to build a quantum variational classifier to learn the phases of an Ising model with Hamiltonian given by:\n",
        "\n",
        "$$\n",
        "H = -\\sum_{\\langle i, j \\rangle} \\sigma^z_i \\sigma^z_j\n",
        "$$\n",
        "\n",
        "The ising model is a classical toy model that describes magnetism via nearest-neighbour inter- acting binary spins. There exists a finite-temperature phase transition for the Ising model where, below the “critical” temperature (the temperature where the phase transition occurs), favoured spin-configurations are all up/down (the “ordered” phase). Above the critical temperature, favoured spin configurations are random (the “disordered” phase).\n",
        "\n",
        "To do this we simple need to implement a VQE in the function `classify_ising_data` to learn to classify ising configurations as ordered or disordered with more than 90% accuracy"
      ],
      "metadata": {
        "id": "uSpubkbao55G"
      }
    },
    {
      "cell_type": "code",
      "source": [
        "def square_loss(labels, predictions):\n",
        "    \"\"\"Computes the standard square loss between model predictions and true labels.\n",
        "\n",
        "    Args:\n",
        "        - labels (list(int)): True labels (1/-1 for the ordered/disordered phases)\n",
        "        - predictions (list(int)): Model predictions (1/-1 for the ordered/disordered phases)\n",
        "\n",
        "    Returns:\n",
        "        - loss (float): the square loss\n",
        "    \"\"\"\n",
        "\n",
        "    loss = 0\n",
        "    for l, p in zip(labels, predictions):\n",
        "        loss = loss + (l - p) ** 2\n",
        "\n",
        "    loss = loss / len(labels)\n",
        "    return loss\n",
        "\n",
        "\n",
        "def accuracy(labels, predictions):\n",
        "    \"\"\"Computes the accuracy of the model's predictions against the true labels.\n",
        "\n",
        "    Args:\n",
        "        - labels (list(int)): True labels (1/-1 for the ordered/disordered phases)\n",
        "        - predictions (list(int)): Model predictions (1/-1 for the ordered/disordered phases)\n",
        "\n",
        "    Returns:\n",
        "        - acc (float): The accuracy.\n",
        "    \"\"\"\n",
        "\n",
        "    acc = 0\n",
        "    for l, p in zip(labels, predictions):\n",
        "        if abs(l - p) < 1e-5:\n",
        "            acc = acc + 1\n",
        "    acc = acc / len(labels)\n",
        "\n",
        "    return acc"
      ],
      "metadata": {
        "id": "yOFVYtJLqVyW"
      },
      "execution_count": null,
      "outputs": []
    },
    {
      "cell_type": "code",
      "source": [
        "def classify_ising_data(ising_configs, labels):\n",
        "    \"\"\"Learn the phases of the classical Ising model.\n",
        "\n",
        "    Args:\n",
        "        - ising_configs (np.ndarray): 250 rows of binary (0 and 1) Ising model configurations\n",
        "        - labels (np.ndarray): 250 rows of labels (1 or -1)\n",
        "\n",
        "    Returns:\n",
        "        - predictions (list(int)): Your final model predictions\n",
        "\n",
        "    Feel free to add any other functions than `cost` and `circuit` within the \"# QHACK #\" markers \n",
        "    that you might need.\n",
        "    \"\"\"\n",
        "\n",
        "    # QHACK #\n",
        "\n",
        "    num_wires = ising_configs.shape[1] \n",
        "    dev = qml.device(\"default.qubit\", wires=num_wires) \n",
        "\n",
        "    @qml.qnode(dev)\n",
        "    def circuit(weights, x):  \n",
        "        \"\"\"\n",
        "        VQE circuit with no bias and inputs:\n",
        "            weights: weights of the variational circuit\n",
        "            x: ising configuration data\n",
        "        \"\"\"\n",
        "        qml.BasisState(x, wires=range(num_wires))\n",
        "        qml.templates.StronglyEntanglingLayers(weights, wires=range(num_wires))\n",
        "        return qml.expval(qml.PauliZ(0))\n",
        "\n",
        "    def variational_circuit(weights, bias, x):\n",
        "        # Variational circuit with bias\n",
        "        return circuit(weights, x) + bias\n",
        "\n",
        "    def cost(weights, bias, X, Y):  \n",
        "        \"\"\"\n",
        "        Cost function for the optimization problem with inputs:\n",
        "            weights: weights of the variational circuit\n",
        "            bias: bias of the variational circuit\n",
        "            X: batch of ising configurations\n",
        "            Y: batch of labels for ising configurations\n",
        "        \"\"\"\n",
        "        # QHACK #\n",
        "        predictions = [variational_circuit(weights, bias, x) for x in X]\n",
        "        # QHACK #\n",
        "        return square_loss(Y, predictions)  # DO NOT MODIFY this line\n",
        "\n",
        "    # optimize your circuit here\n",
        "    # Training data\n",
        "    X = np.array(ising_configs, requires_grad=False)\n",
        "    Y = np.array(labels, requires_grad=False)\n",
        "    # Training parameters\n",
        "    np.random.seed(0)\n",
        "    num_layers = 3\n",
        "    learning_rate = 0.1\n",
        "    weights_init = np.random.uniform(\n",
        "        low=0, high=2 * np.pi, size=(num_layers, num_wires, 3)\n",
        "    )\n",
        "    bias_init = np.array(0.0, requires_grad=True)\n",
        "    opt = qml.AdamOptimizer(learning_rate)\n",
        "    batch_size = 10\n",
        "    epochs = 50\n",
        "    weights = weights_init\n",
        "    bias = bias_init\n",
        "\n",
        "    # Train\n",
        "    for epoch in range(epochs):\n",
        "      # Ge training batch\n",
        "        batch_index = np.random.randint(0, len(X), (batch_size,))\n",
        "        X_batch = X[batch_index]\n",
        "        Y_batch = Y[batch_index]\n",
        "        weights, bias, _, _ = opt.step(cost, weights, bias, X_batch, Y_batch)\n",
        "\n",
        "        # Compute accuracy\n",
        "        predictions = [int(np.sign(variational_circuit(weights, bias, x))) for x in X]\n",
        "        acc = accuracy(Y, predictions)\n",
        "        print(f\"Epoch {epoch} -> Accuracy: {acc}\")\n",
        "\n",
        "        # Break once accuracy passes specified threshold\n",
        "        if acc > 0.9:\n",
        "            break\n",
        "\n",
        "    return predictions, acc"
      ],
      "metadata": {
        "id": "a800pjW_qc85"
      },
      "execution_count": null,
      "outputs": []
    },
    {
      "cell_type": "markdown",
      "source": [
        "Testing 1.in"
      ],
      "metadata": {
        "id": "geqG_dB2sVTa"
      }
    },
    {
      "cell_type": "code",
      "source": [
        "inputs = \"0,0,1,0,-1,0,0,0,0,1,0,0,1,0,-1,0,0,0,0,1,0,0,0,0,-1,1,1,0,1,-1,0,0,1,0,-1,1,0,0,1,-1,0,0,0,0,1,1,1,1,1,1,1,0,1,0,-1,0,1,0,1,-1,1,0,0,1,-1,0,0,0,0,1,1,1,1,1,1,0,0,0,0,-1,0,0,0,0,1,1,1,1,1,1,1,1,1,1,1,0,1,0,0,-1,0,1,0,1,-1,1,1,1,1,1,0,1,1,0,-1,1,0,1,1,-1,0,0,0,1,-1,0,0,1,0,-1,1,0,0,0,-1,0,0,0,0,1,0,0,0,1,-1,0,0,1,1,-1,0,0,0,0,1,1,1,1,0,-1,1,1,1,1,1,1,0,1,0,-1,1,0,0,0,-1,0,0,0,0,1,1,1,1,1,1,0,0,0,0,1,0,0,0,0,1,1,1,0,0,-1,1,1,1,1,1,0,0,0,1,-1,1,1,1,1,1,1,1,0,1,-1,0,1,0,0,-1,1,1,1,1,1,0,0,1,1,-1,0,0,0,0,1,1,0,0,0,-1,0,0,0,0,1,1,1,1,1,1,1,1,1,0,-1,0,0,0,0,1,1,1,0,1,-1,0,0,0,0,1,1,0,1,0,-1,1,1,0,1,-1,0,0,0,0,1,1,1,1,1,-1,1,1,1,1,1,1,0,0,1,-1,0,0,0,0,1,0,0,0,1,-1,0,0,0,0,1,1,1,1,1,1,1,1,1,1,1,0,1,0,0,-1,1,0,1,1,-1,0,0,0,0,1,1,1,1,1,1,0,0,0,0,1,1,1,1,1,1,0,0,0,0,1,1,1,1,1,1,1,1,1,1,1,0,0,0,1,-1,0,0,0,0,1,0,1,0,0,-1,0,0,0,0,1,1,1,1,1,1,1,1,1,1,1,0,0,0,0,1,1,1,0,0,-1,1,1,1,1,1,0,0,0,0,1,0,0,1,1,-1,0,1,1,1,-1,0,1,1,0,-1,1,0,0,0,-1,1,1,1,1,1,0,1,1,1,-1,1,1,1,1,1,1,1,1,1,1,1,1,1,1,-1,1,1,1,1,1,0,0,0,0,1,1,1,1,1,1,1,1,1,1,1,1,1,1,1,1,1,1,1,0,-1,0,0,0,0,1,1,0,1,0,-1,0,0,0,0,1,1,0,0,1,-1,0,1,1,1,-1,1,0,0,0,-1,0,0,0,0,1,1,1,1,1,-1,1,1,1,0,-1,0,0,0,0,1,1,1,1,1,1,0,0,0,0,1,1,1,1,0,-1,0,0,0,0,1,1,1,1,1,1,0,0,0,0,1,0,0,0,0,-1,1,0,0,1,-1,0,0,1,1,-1,0,0,0,0,1,0,0,0,0,1,0,0,0,0,1,1,0,0,1,-1,1,1,1,1,1,0,1,0,1,-1,0,1,0,0,-1,0,0,0,0,1,0,0,0,0,1,0,0,1,1,-1,0,0,1,0,-1,0,0,0,0,1,1,1,1,1,1,1,1,1,1,1,0,1,1,1,-1,1,1,1,1,1,0,0,0,0,1,1,0,0,1,-1,1,1,1,1,1,1,1,1,1,1,1,1,1,1,1,0,0,1,1,-1,0,1,0,0,-1,1,1,1,1,1,0,0,0,0,-1,0,0,0,0,1,1,1,1,1,1,0,0,0,0,1,1,1,1,1,1,1,0,0,0,-1,1,1,1,1,1,0,1,0,0,-1,1,1,1,1,1,0,0,1,0,-1,1,1,1,1,1,1,1,1,1,1,0,0,0,0,1,0,1,1,0,-1,0,0,0,0,1,0,1,0,0,-1,1,0,1,0,-1,0,1,1,0,-1,1,1,0,0,-1,0,1,1,0,-1,0,0,0,0,1,1,1,1,1,1,1,0,0,0,-1,1,1,1,1,1,0,0,0,0,1,1,1,1,1,1,1,0,0,0,-1,0,0,0,0,1,1,0,0,1,-1,1,1,0,0,-1,0,0,0,0,-1,0,0,0,0,1,0,0,0,1,-1,1,1,1,1,1,1,0,0,1,-1,0,0,0,0,1,0,0,0,0,1,1,1,1,1,1,0,0,0,0,1,0,0,0,0,1,1,1,1,1,1,1,1,0,0,-1,0,0,0,0,1,1,0,0,1,-1,1,0,0,0,-1,0,0,0,0,1,1,0,0,0,-1,1,0,0,1,-1,1,0,0,0,-1,1,0,0,1,-1,1,1,0,1,-1,0,0,0,0,1,0,1,0,1,-1,0,0,1,1,-1,1,1,1,1,1,1,1,1,1,1,0,0,0,0,1,1,0,0,0,-1,0,1,1,1,-1,0,0,0,0,1,1,0,0,0,-1,0,1,1,0,-1,0,0,0,0,-1,0,0,0,0,1,1,1,1,1,1,1,1,0,1,-1,0,0,0,0,1,0,0,1,1,-1,1,1,1,1,-1,0,0,0,0,-1,0,0,0,0,1,1,0,0,0,-1,0,0,0,0,1,1,1,1,1,1,0,0,1,0,-1,1,0,0,0,-1,0,0,0,0,1,1,0,1,0,-1,1,0,0,1,-1,0,0,1,1,-1,1,1,0,0,-1,1,0,1,1,-1,0,0,0,0,1,1,1,1,1,1,1,1,0,1,-1,1,1,1,1,1,1,0,0,1,-1,1,0,0,0,-1,0,0,0,0,1,0,0,0,0,-1,1,0,0,1,-1,1,1,1,1,-1,0,0,0,0,-1,1,1,0,0,-1,1,1,1,1,1,1,1,1,1,-1,0,0,0,0,1,0,0,0,1,-1,0,1,1,1,-1,1,1,1,1,1,0,0,0,0,-1,1,0,1,1,-1,1,1,1,0,-1,1,1,1,1,1,0,0,0,0,1,0,0,0,0,1,1,1,0,0,-1\"\n",
        "inputs = np.array(\n",
        "    inputs.split(\",\"), dtype=int, requires_grad=False\n",
        ").reshape(DATA_SIZE, -1)\n",
        "ising_configs = inputs[:, :-1]\n",
        "labels = inputs[:, -1]\n",
        "predictions, acc = classify_ising_data(ising_configs, labels)\n",
        "print(\"Final predictions:\")\n",
        "print(*predictions, sep=\",\")\n",
        "print(\"Final accuracy:\")\n",
        "print(acc)"
      ],
      "metadata": {
        "id": "xww7c0M6sWex"
      },
      "execution_count": null,
      "outputs": []
    }
  ]
}