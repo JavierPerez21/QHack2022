{
 "nbformat": 4,
 "nbformat_minor": 0,
 "metadata": {
  "colab": {
   "name": "games_100_TardigradeMasquerade.ipynb",
   "private_outputs": true,
   "provenance": [],
   "authorship_tag": "ABX9TyPjo1850JWMFQ7DsPTSiq4D",
   "include_colab_link": true
  },
  "kernelspec": {
   "name": "python3",
   "display_name": "Python 3"
  },
  "language_info": {
   "name": "python"
  }
 },
 "cells": [
  {
   "cell_type": "markdown",
   "metadata": {
    "id": "view-in-github",
    "colab_type": "text"
   },
   "source": [
    "<a href=\"https://colab.research.google.com/github/JavierPerez21/QHack2022/blob/master/Coding_Challenges/games_100_TardigradeMasquerade_template/games_100_TardigradeMasquerade.ipynb\" target=\"_parent\"><img src=\"https://colab.research.google.com/assets/colab-badge.svg\" alt=\"Open In Colab\"/></a>"
   ]
  },
  {
   "cell_type": "code",
   "execution_count": null,
   "metadata": {
    "id": "N2Garhp3oa2L"
   },
   "outputs": [],
   "source": [
    "%%capture\n",
    "!pip install pennylane"
   ]
  },
  {
   "cell_type": "code",
   "source": [
    "import pennylane as qml\n",
    "from pennylane import numpy as np"
   ],
   "metadata": {
    "id": "c6eso8d7okUb"
   },
   "execution_count": null,
   "outputs": []
  },
  {
   "cell_type": "markdown",
   "source": [
    "In [this paper](https://arxiv.org/abs/2112.07978) the authors demonstrate to have entangled superconducting qubits and a tardigrade. The goal of this challenge is to replicate some of their results.\n",
    "\n",
    "First we need to create two states. One without the tardigrade:\n",
    "\n",
    "$$\n",
    "|\\phi\\rangle_{AB} = \\frac{1}{\\sqrt{2}} ( |0\\rangle_A \\otimes |1\\rangle_B + |1\\rangle_A \\otimes|0\\rangle_B)\n",
    "$$\n",
    "\n",
    "And one with the tardigrade:\n",
    "\n",
    "\n",
    "$$\n",
    "|\\phi\\rangle_{ABT} = \\frac{1}{\\sqrt{2}} ( |0\\rangle_A \\otimes |e\\rangle_{BT} + |1\\rangle_A \\otimes|g0\\rangle_{BT})\n",
    "$$\n",
    "with\n",
    "$$\n",
    "|e\\rangle_{BT} = cos \\frac{\\theta}{2}|1\\rangle_B\\otimes|0\\rangle_T + sin \\frac{\\theta}{2}|0\\rangle_B\\otimes|1\\rangle_T \\;\\;\\; \n",
    "|g\\rangle_{BT} = |0\\rangle_B\\otimes|0\\rangle_T\n",
    "$$\n",
    "\n",
    "To demonstrate the existence of entanglement due to the tardigrade we need to calculate a measuere of [entanglement entropy](https://en.wikipedia.org/wiki/Entropy_of_entanglement) known as [Rény entropy](https://en.wikipedia.org/wiki/R%C3%A9nyi_entropy) with respect to qubit B\n",
    "\n",
    "$$\n",
    "S_2 (\\rho_B) = - ln Tr(\\rho^2_B)\\;\\;\\;\\; with\\;\\;\\;\\;  \\rho_B = Tr_{A, T}(\\rho_{ABT})\\;\\;\\;\\; and \\;\\;\\;\\; \\rho_{ABT} = |\\psi\\rangle\\langle\\psi|_{ABT}\n",
    "$$\n",
    "\n",
    "This value achieves a maximum when $\\rho_B=1/2I$ is maximally mixed. This maximum value os 0.693 happens when there is no tardigrade: $\\mu_{AB} = |\\phi\\rangle\\langle\\phi|_{AB}$\n",
    "\n",
    "The goal in this challenge is to prepare these two states and measure their renyi entropy."
   ],
   "metadata": {
    "id": "YWXJtkZ4opDO"
   }
  },
  {
   "cell_type": "code",
   "source": [
    "\n",
    "def second_renyi_entropy(rho):\n",
    "    \"\"\"Computes the second Renyi entropy of a given density matrix.\"\"\"\n",
    "    # DO NOT MODIFY anything in this code block\n",
    "    rho_diag_2 = np.diagonal(rho) ** 2.0\n",
    "    return -np.real(np.log(np.sum(rho_diag_2)))\n",
    "\n",
    "\n",
    "def compute_entanglement(theta):\n",
    "    \"\"\"Computes the second Renyi entropy of circuits with and without a tardigrade present.\n",
    "\n",
    "    Args:\n",
    "        - theta (float): the angle that defines the state psi_ABT\n",
    "\n",
    "    Returns:\n",
    "        - (float): The entanglement entropy of qubit B with no tardigrade\n",
    "        initially present\n",
    "        - (float): The entanglement entropy of qubit B where the tardigrade\n",
    "        was initially present\n",
    "    \"\"\"\n",
    "\n",
    "    dev = qml.device(\"default.qubit\", wires=3)\n",
    "\n",
    "    # QHACK #\n",
    "    G = np.identity(4)\n",
    "    G[1, 1] = np.cos(theta / 2)\n",
    "    G[1, 2] = np.sin(theta / 2)\n",
    "    G[2, 1] = -np.sin(theta / 2)\n",
    "    G[2, 2] = np.cos(theta / 2)\n",
    "\n",
    "    # QHACK #\n",
    "    @qml.qnode(dev)\n",
    "    def circuit_ab():\n",
    "        # Prepare maximally entangled state\n",
    "        qml.Hadamard(wires=0)\n",
    "        qml.PauliX(wires=1)\n",
    "        qml.CNOT(wires=[0, 1])\n",
    "        # return qml.state()\n",
    "        return qml.density_matrix([1])\n",
    "\n",
    "    @qml.qnode(dev)\n",
    "    def circuit_abt():\n",
    "        # Prepare maximally entangled state\n",
    "        qml.Hadamard(wires=0)\n",
    "        qml.PauliX(wires=1)\n",
    "        qml.CNOT(wires=[0, 1])\n",
    "        # Add tardigrade entanglement\n",
    "        qml.QubitUnitary(G, wires=[1, 2])\n",
    "        return qml.density_matrix([1])\n",
    "\n",
    "    return second_renyi_entropy(circuit_ab()), second_renyi_entropy(circuit_abt())"
   ],
   "metadata": {
    "id": "YTI314i1pKeu"
   },
   "execution_count": null,
   "outputs": []
  },
  {
   "cell_type": "markdown",
   "source": [
    "Testing with 1.in"
   ],
   "metadata": {
    "id": "Vz5m4kbJsnZ5"
   }
  },
  {
   "cell_type": "code",
   "source": [
    "theta = np.array(0.7745598277086928, dtype=float)\n",
    "\n",
    "S2_without_tardigrade, S2_with_tardigrade = compute_entanglement(theta)\n",
    "print(*[S2_without_tardigrade, S2_with_tardigrade], sep=\",\")"
   ],
   "metadata": {
    "id": "p8nEQ4oosgDO"
   },
   "execution_count": null,
   "outputs": []
  }
 ]
}