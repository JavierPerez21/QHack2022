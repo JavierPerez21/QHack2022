{
  "nbformat": 4,
  "nbformat_minor": 0,
  "metadata": {
    "colab": {
      "name": "qchem_300_UniversalityGivens.ipynb",
      "private_outputs": true,
      "provenance": [],
      "authorship_tag": "ABX9TyOjNaT+VvWHzfX5q9J6uNGB",
      "include_colab_link": true
    },
    "kernelspec": {
      "name": "python3",
      "display_name": "Python 3"
    },
    "language_info": {
      "name": "python"
    }
  },
  "cells": [
    {
      "cell_type": "markdown",
      "metadata": {
        "id": "view-in-github",
        "colab_type": "text"
      },
      "source": [
        "<a href=\"https://colab.research.google.com/github/JavierPerez21/QHack2022/blob/master/qchem_300_UniversalityGivens.ipynb\" target=\"_parent\"><img src=\"https://colab.research.google.com/assets/colab-badge.svg\" alt=\"Open In Colab\"/></a>"
      ]
    },
    {
      "cell_type": "code",
      "execution_count": null,
      "metadata": {
        "id": "9xkR2TFhNkA3"
      },
      "outputs": [],
      "source": [
        "import numpy as np"
      ]
    },
    {
      "cell_type": "markdown",
      "source": [
        " [Givens rotations](https://pennylane.ai/qml/demos/tutorial_givens_rotations.html) are particle-conserving unitaries that are widely used in quantum chemistry. With givens rotations we can generte a state of the form:\n",
        "$$\n",
        "|\\psi\\rangle  = a |110000\\rangle + b | 001100\\rangle + c | 000011\\rangle + d|100100\\rangle\n",
        "$$\n",
        "\n",
        "To do this we begin with the state $|110000\\rangle$, then we apply a Double Givens Excitation with $\\theta_1$ on qubits 0,1,2 and 3. Then we apply a Double Givens Excitation with $\\theta_2$ on qubits 2, 3 4 and 5. Lastly we apply a controlled Single Givens Excitation with $\\theta_3$ on qubits 1 and 4 controlled by qubit 0.\n",
        "\n",
        "The goal of this challenge is to calculate the angles $\\theta_1$, $\\theta_2$ and $\\theta_3$ givan a, b, c and d."
      ],
      "metadata": {
        "id": "mSoTMlC1N9Aw"
      }
    },
    {
      "cell_type": "code",
      "source": [
        "# The algebra below shows how the solution can be found"
      ],
      "metadata": {
        "id": "ZuWw5bc8ULlB"
      },
      "execution_count": null,
      "outputs": []
    },
    {
      "cell_type": "markdown",
      "source": [
        "To solve this we mathematically apply the circuit:\n",
        "\n",
        "1. Initialize the circuit:\n",
        "$$\n",
        "|110000\\rangle\n",
        "$$\n",
        "2. Apply the Double Givens Excitation with $\\theta_1$ on qubits 0,1,2 and 3.\n",
        "\n",
        "$$\n",
        "G^2_{0,1,2,3}(\\theta_1) |110000\\rangle = \n",
        "G^2_{0,1,2,3}(\\theta_1) |1100 \\rangle \\otimes |00\\rangle = \n",
        "\\left( cos \\frac{\\theta_1}{2} |1100 \\rangle  - sin \\frac{\\theta_1}{2} |0011 \\rangle \\right) \\otimes |00\\rangle = \\\\\n",
        "cos \\frac{\\theta_1}{2} |110000\\rangle  - sin \\frac{\\theta_1}{2} |001100\\rangle \n",
        "$$\n",
        "\n",
        "3. Apply the Double Givens Excitation with $\\theta_2$ on qubits 2, 3, 4, 5. Since the last four quibits of the first state are all 0, we only need to do the math for the second state.\n",
        "$$\n",
        "cos \\frac{\\theta_1}{2} |110000\\rangle  - sin \\frac{\\theta_1}{2} G^2_{2,3,4,5}(\\theta_2) |001100\\rangle =\n",
        "cos \\frac{\\theta_1}{2} |110000\\rangle  - sin \\frac{\\theta_1}{2} |00\\rangle \\otimes G^2_{2,3,4,5}(\\theta_2) |1100\\rangle = \\\\\n",
        "cos \\frac{\\theta_1}{2} |110000\\rangle  - sin \\frac{\\theta_1}{2} |00\\rangle \\otimes \\left( cos \\frac{\\theta_2}{2} |1100 \\rangle  - sin \\frac{\\theta_2}{2} |0011 \\rangle \\right) = \\\\\n",
        "cos \\frac{\\theta_1}{2} |110000\\rangle  - sin \\frac{\\theta_1}{2} \\left( cos \\frac{\\theta_2}{2} |001100 \\rangle  - sin \\frac{\\theta_2}{2} |000011 \\rangle \\right) = \\\\\n",
        "cos \\frac{\\theta_1}{2} |110000\\rangle  - sin \\frac{\\theta_1}{2} cos \\frac{\\theta_2}{2} |001100 \\rangle + sin \\frac{\\theta_1}{2} sin \\frac{\\theta_2}{2} |000011 \\rangle\n",
        "$$ \n",
        "3. Lastly, we apply the Single Givens Excitation with $\\theta_3$ on qubits 1 and 4 controlled by qubit 0. This will only affect the state $|110000\\rangle$ due to the control so we only need to do the math on this state too.\n",
        "$$\n",
        "cos \\frac{\\theta_1}{2} G^1_{2, 3, c0}(\\theta_3) |110000\\rangle  - sin \\frac{\\theta_1}{2} cos \\frac{\\theta_2}{2} |001100 \\rangle + sin \\frac{\\theta_1}{2} sin \\frac{\\theta_2}{2} |000011 \\rangle = \\\\\n",
        "cos \\frac{\\theta_1}{2} |1\\rangle \\otimes G^1_{2, 3, c0}(\\theta_3) |100\\rangle  \\otimes |00\\rangle  - sin \\frac{\\theta_1}{2} cos \\frac{\\theta_2}{2} |001100 \\rangle + sin \\frac{\\theta_1}{2} sin \\frac{\\theta_2}{2} |000011 \\rangle = \\\\\n",
        "cos \\frac{\\theta_1}{2} |1\\rangle \\otimes \\left( cos \\frac{\\theta_3}{2} |100\\rangle  - sin \\frac{\\theta_3}{2} |001\\rangle \\right)  \\otimes |00\\rangle  - sin \\frac{\\theta_1}{2} cos \\frac{\\theta_2}{2} |001100 \\rangle + sin \\frac{\\theta_1}{2} sin \\frac{\\theta_2}{2} |000011 \\rangle = \\\\\n",
        "cos \\frac{\\theta_1}{2} \\left( cos \\frac{\\theta_3}{2} |110000\\rangle  - sin \\frac{\\theta_3}{2} |100100\\rangle \\right)    - sin \\frac{\\theta_1}{2} cos \\frac{\\theta_2}{2} |001100 \\rangle + sin \\frac{\\theta_1}{2} sin \\frac{\\theta_2}{2} |000011 \\rangle = \\\\\n",
        "cos \\frac{\\theta_1}{2}  cos \\frac{\\theta_3}{2} |110000\\rangle  - cos \\frac{\\theta_1}{2} sin \\frac{\\theta_3}{2} |100100\\rangle    - sin \\frac{\\theta_1}{2} cos \\frac{\\theta_2}{2} |001100 \\rangle + sin \\frac{\\theta_1}{2} sin \\frac{\\theta_2}{2} |000011 \\rangle\n",
        "$$\n",
        "\n",
        "Now we have arrived at the solution: \n",
        "$$\n",
        "a = cos \\frac{\\theta_1}{2}  cos \\frac{\\theta_3}{2} \\\\\n",
        "b =  - cos \\frac{\\theta_1}{2} sin \\frac{\\theta_3}{2} \\\\\n",
        "c = - sin \\frac{\\theta_1}{2} cos \\frac{\\theta_2}{2}\n",
        "d = sin \\frac{\\theta_1}{2} sin \\frac{\\theta_2}{2}\n",
        "$$\n"
      ],
      "metadata": {
        "id": "OC7DTr-8PdYC"
      }
    },
    {
      "cell_type": "code",
      "source": [
        "def givens_rotations(a, b, c, d):\n",
        "    \"\"\"Calculates the angles needed for a Givens rotation to out put the state with amplitudes a,b,c and d\n",
        "\n",
        "    Args:\n",
        "        - a,b,c,d (float): real numbers which represent the amplitude of the relevant basis states (see problem statement). Assume they are normalized.\n",
        "\n",
        "    Returns:\n",
        "        - (list(float)): a list of real numbers ranging in the intervals provided in the challenge statement, which represent the angles in the Givens rotations,\n",
        "        in order, that must be applied.\n",
        "    \"\"\"\n",
        "\n",
        "    # QHACK #\n",
        "    # Here we let Z = theta_3/2, Y = theta_2/2 and X = theta_1/2\n",
        "    Z = np.arctan(-d/a)\n",
        "    Y = np.arctan(- c / b)\n",
        "    X = np.arctan(-(c * np.sin(Z)) / (d * np.sin(Y)))\n",
        "    return X*2, Y*2, Z*2"
      ],
      "metadata": {
        "id": "L-SfHxmzOOS9"
      },
      "execution_count": null,
      "outputs": []
    },
    {
      "cell_type": "markdown",
      "source": [
        "Testing 1.in"
      ],
      "metadata": {
        "id": "dhVWeEwiUUsF"
      }
    },
    {
      "cell_type": "code",
      "source": [
        "inputs = \"0.5,0.5,0.5,0.5\".split(\",\")\n",
        "theta_1, theta_2, theta_3 = givens_rotations(\n",
        "    float(inputs[0]), float(inputs[1]), float(inputs[2]), float(inputs[3])\n",
        ")\n",
        "print(*[theta_1, theta_2, theta_3], sep=\",\")"
      ],
      "metadata": {
        "id": "-qiIySbcUXcD"
      },
      "execution_count": null,
      "outputs": []
    },
    {
      "cell_type": "markdown",
      "source": [
        "You can ply with different configurations too"
      ],
      "metadata": {
        "id": "WS0b16R_Uj7h"
      }
    },
    {
      "cell_type": "code",
      "source": [
        "%%capture\n",
        "!pip install pennylane"
      ],
      "metadata": {
        "id": "GfAv3ZLzUy_B"
      },
      "execution_count": null,
      "outputs": []
    },
    {
      "cell_type": "code",
      "source": [
        "import random\n",
        "import pennylane as qml\n",
        "\n",
        "dev = qml.device(\"default.qubit\", wires=[0, 1, 2, 3, 4, 5])\n",
        "\n",
        "@qml.qnode(dev)\n",
        "def circuit(t1, t2, t3):\n",
        "    # prepares the reference state |100>\n",
        "    qml.BasisState(np.array([1, 1, 0, 0, 0, 0]), wires=[0, 1, 2, 3, 4, 5])\n",
        "    # applies the single excitations\n",
        "    qml.DoubleExcitation(t1, wires=[0, 1, 2, 3])\n",
        "    qml.DoubleExcitation(t2, wires=[2, 3, 4, 5])\n",
        "    qml.ctrl(qml.SingleExcitation, control=0)(t3, wires=[1, 3])\n",
        "    return qml.state()\n",
        "\n",
        "def new_experiment(params=None, print_outputs=False):\n",
        "  if params is not None:\n",
        "    t1, t2, t3 = params[0], params[1], params[2]\n",
        "  else:\n",
        "    t1, t2, t3 = (random.random()*2*np.pi - np.pi)/2, (random.random()*2*np.pi - np.pi)/2, (random.random()*2*np.pi - np.pi)/2\n",
        "  tensor_state = circuit(t1, t2, t3).reshape(2, 2, 2, 2, 2, 2)\n",
        "  \n",
        "  a = tensor_state[1, 1, 0, 0, 0, 0].real\n",
        "  b = tensor_state[0, 0, 1, 1, 0, 0].real\n",
        "  c = tensor_state[0, 0, 0, 0, 1, 1].real\n",
        "  d = tensor_state[1, 0, 0, 1, 0, 0].real\n",
        "\n",
        "  Z = np.arctan(-d / a)\n",
        "  Y = np.arctan(-c / b)\n",
        "  X = np.arctan(-(c*np.sin(Z))/(d*np.sin(Y)))\n",
        "\n",
        "  if print_outputs:\n",
        "    print(f\"theta_1, theta_2, theta_3 = {t1},{t2},{t3}\")\n",
        "    print()\n",
        "    print(\"Amplitude of state |110000> = \", tensor_state[1, 1, 0, 0, 0, 0].real)\n",
        "    print(\"Amplitude of state |001100> = \", tensor_state[0, 0, 1, 1, 0, 0].real)\n",
        "    print(\"Amplitude of state |000011> = \", tensor_state[0, 0, 0, 0, 1, 1].real)\n",
        "    print(\"Amplitude of state |100100> = \", tensor_state[1, 0, 0, 1, 0, 0].real)\n",
        "    print()\n",
        "    print(\"a\", a)\n",
        "    print(\"b\", b)\n",
        "    print(\"c\", c)\n",
        "    print(\"d\", d)\n",
        "    print()\n",
        "    print(f\"Real theta_1    : {t1}\")\n",
        "    print(f\"Estimate theta_1: {X*2}\")\n",
        "    print(f\"Real theta_2    : {t2}\")\n",
        "    print(f\"Estimate theta_2: {Y*2}\")\n",
        "    print(f\"Real theta_3    : {t3}\")\n",
        "    print(f\"Estimate theta_3: {Z*2}\")\n",
        "    print()\n",
        "\n",
        "  if np.round(X*2, 6) == np.round(t1, 6) and np.round(Y*2, 6) == np.round(t2, 6) and np.round(Z*2, 6) == np.round(t3, 6):\n",
        "    print(f\"Found the angles {X*2},{Y*2},{Z*2}!!!!\")\n",
        "  else:\n",
        "    print(\"Couldn't find the angles : (\")\n",
        "    print_outputs = True\n"
      ],
      "metadata": {
        "id": "9AqaHBzeUwTQ"
      },
      "execution_count": null,
      "outputs": []
    },
    {
      "cell_type": "code",
      "source": [
        "new_experiment(print_outputs=True)"
      ],
      "metadata": {
        "id": "yBbsXC-cVUrX"
      },
      "execution_count": null,
      "outputs": []
    }
  ]
}