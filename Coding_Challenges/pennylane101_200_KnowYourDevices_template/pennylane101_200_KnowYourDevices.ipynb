{
 "nbformat": 4,
 "nbformat_minor": 0,
 "metadata": {
  "colab": {
   "name": "pennylane101_200_KnowYourDevices.ipynb",
   "private_outputs": true,
   "provenance": [],
   "authorship_tag": "ABX9TyP1yX6G957nWDIoIRhB0B9B",
   "include_colab_link": true
  },
  "kernelspec": {
   "name": "python3",
   "display_name": "Python 3"
  },
  "language_info": {
   "name": "python"
  }
 },
 "cells": [
  {
   "cell_type": "markdown",
   "metadata": {
    "id": "view-in-github",
    "colab_type": "text"
   },
   "source": [
    "<a href=\"https://colab.research.google.com/github/JavierPerez21/QHack2022/blob/master/Coding_Challenges/pennylane101_200_KnowYourDevices_template/pennylane101_200_KnowYourDevices.ipynb\" target=\"_parent\"><img src=\"https://colab.research.google.com/assets/colab-badge.svg\" alt=\"Open In Colab\"/></a>"
   ]
  },
  {
   "cell_type": "code",
   "execution_count": null,
   "metadata": {
    "id": "aqIMTqJk_fhW"
   },
   "outputs": [],
   "source": [
    "%%capture\n",
    "!pip install pennylane"
   ]
  },
  {
   "cell_type": "code",
   "source": [
    "import pennylane as qml\n",
    "from pennylane import numpy as np"
   ],
   "metadata": {
    "id": "hR0Tj5P6_9qW"
   },
   "execution_count": null,
   "outputs": []
  },
  {
   "cell_type": "markdown",
   "source": [
    "The goal of this challenge is to simply to implement two different circuits on two different devices with different input parameters. We just need to complete the function below."
   ],
   "metadata": {
    "id": "VA-WkwgTAQfg"
   }
  },
  {
   "cell_type": "code",
   "source": [
    "def matrix_norm(mixed_state, pure_state):\n",
    "    \"\"\"Computes the matrix one-norm of the difference between mixed and pure states.\n",
    "\n",
    "    Args:\n",
    "        - mixed_state (np.tensor): A density matrix\n",
    "        - pure_state (np.tensor): A pure state\n",
    "\n",
    "    Returns:\n",
    "        - (float): The matrix one-norm\n",
    "    \"\"\"\n",
    "\n",
    "    return np.sum(np.abs(mixed_state - np.outer(pure_state, np.conj(pure_state))))\n",
    "\n",
    "def compare_circuits(num_wires, params):\n",
    "    \"\"\"Function that returns the matrix norm between the mixed- and pure-state versions of the same state.\n",
    "\n",
    "    Args:\n",
    "        - num_wires (int): The number of qubits / wires\n",
    "        - params (list(np.ndarray)): Two arrays with num_wires floats that correspond to angles of y-rotations\n",
    "        for each wire\n",
    "\n",
    "    Returns:\n",
    "        - mat_norm (float): The matrix one-norm\n",
    "    \"\"\"\n",
    "\n",
    "    # QHACK #\n",
    "    dev1 = qml.device(\"default.qubit\", wires=num_wires)\n",
    "    dev2 = qml.device(\"default.qubit\", wires=num_wires)\n",
    "\n",
    "    @qml.qnode(dev1)\n",
    "    def pure_circuit():\n",
    "        \"\"\"A circuit that contains `num_wires` y-rotation gates.\n",
    "        The argument params[0] are the parameters you should use here to define the y-rotations.\n",
    "\n",
    "        Returns:\n",
    "            - (np.tensor): A state vector\n",
    "        \"\"\"\n",
    "        for i in range(0, num_wires):\n",
    "            qml.RY(params[0][i], wires=i)\n",
    "        return qml.state()\n",
    "\n",
    "    @qml.qnode(dev2, diff_method=\"backprop\")\n",
    "    def mixed_circuit():\n",
    "        \"\"\"A circuit that contains `num_wires` y-rotation gates.\n",
    "        The argument params[1] are the parameters you should use here to define the y-rotations.\n",
    "\n",
    "        Returns:\n",
    "            - (np.tensor): A density matrix\n",
    "        \"\"\"\n",
    "        for i in range(0, num_wires):\n",
    "            qml.RY(params[1][i], wires=i)\n",
    "        return qml.density_matrix([x for x in range(0, num_wires)])\n",
    "\n",
    "    # QHACK #\n",
    "\n",
    "    # DO NOT MODIFY any of the next lines in this scope\n",
    "    mixed_state = mixed_circuit()\n",
    "    pure_state = pure_circuit()\n",
    "    mat_norm = matrix_norm(mixed_state, pure_state)\n",
    "\n",
    "    return mat_norm"
   ],
   "metadata": {
    "id": "mCS1wKdtBNfI"
   },
   "execution_count": null,
   "outputs": []
  },
  {
   "cell_type": "markdown",
   "source": [
    "Testing with 1.in"
   ],
   "metadata": {
    "id": "WX-KgMoyBYGg"
   }
  },
  {
   "cell_type": "code",
   "source": [
    "inputs = \"2, 0.17085641, 4.69202289, 0.4478956, 3.69402896\".split(\",\")\n",
    "num_wires = int(inputs[0])\n",
    "l = int(len(inputs[1:]) / 2)\n",
    "params = [\n",
    "    np.array(inputs[1 : (l + 1)], dtype=float),  # for pure circuit\n",
    "    np.array(inputs[(l + 1) :], dtype=float),  # for mixed circuit\n",
    "]\n",
    "\n",
    "output = compare_circuits(num_wires, params)\n",
    "print(f\"{output:.6f}\")"
   ],
   "metadata": {
    "id": "XkQTz6FbBZ8I"
   },
   "execution_count": null,
   "outputs": []
  }
 ]
}