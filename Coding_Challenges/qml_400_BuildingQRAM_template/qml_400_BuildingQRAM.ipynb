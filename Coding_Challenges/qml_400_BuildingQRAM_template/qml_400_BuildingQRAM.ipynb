{
 "nbformat": 4,
 "nbformat_minor": 0,
 "metadata": {
  "colab": {
   "name": "qml_400_BuildingQRAM.ipynb",
   "private_outputs": true,
   "provenance": [],
   "authorship_tag": "ABX9TyMig1SPHZPq/PkY2J7nGWsm",
   "include_colab_link": true
  },
  "kernelspec": {
   "name": "python3",
   "display_name": "Python 3"
  },
  "language_info": {
   "name": "python"
  }
 },
 "cells": [
  {
   "cell_type": "markdown",
   "metadata": {
    "id": "view-in-github",
    "colab_type": "text"
   },
   "source": [
    "<a href=\"https://colab.research.google.com/github/JavierPerez21/QHack2022/blob/master/Coding_Challenges/qml_400_BuildingQRAM_template/qml_400_BuildingQRAM.ipynb\" target=\"_parent\"><img src=\"https://colab.research.google.com/assets/colab-badge.svg\" alt=\"Open In Colab\"/></a>"
   ]
  },
  {
   "cell_type": "code",
   "execution_count": null,
   "metadata": {
    "id": "DFGcIAuhzPSn"
   },
   "outputs": [],
   "source": [
    "%%capture\n",
    "!pip install pennylane"
   ]
  },
  {
   "cell_type": "code",
   "source": [
    "from pennylane import numpy as np\n",
    "import pennylane as qml"
   ],
   "metadata": {
    "id": "3NibmuqX1b4e"
   },
   "execution_count": null,
   "outputs": []
  },
  {
   "cell_type": "markdown",
   "source": [
    "A quantum random access memory (qRAM) is a data structure that allows us to store a series of n-qubit states accessible via an index. To do this, qRAM generates the state:\n",
    "\n",
    "$$\n",
    "|\\psi_{QRAM}\\rangle = \\frac{1}{\\sqrt{8}} \\left( |0\\rangle A_0 |0\\rangle^{\\otimes n} + |1\\rangle A_1 |0\\rangle^{\\otimes n} +  ... + |7\\rangle A_7 |0\\rangle^{\\otimes n} \\right)\n",
    "$$\n",
    "\n",
    "This structure allos to work with all the data simulataneously in an overlapping state which enabels more efficiency with quantum algorithms.\n",
    "\n",
    "The goal of this challenge is to implement a qRAM for n=1 to store 8 differen elements with $A_i = R_Y(\\theta_i)$"
   ],
   "metadata": {
    "id": "YoFO2gKezZNe"
   }
  },
  {
   "cell_type": "code",
   "source": [
    "def qRAM(thetas):\n",
    "    \"\"\"Function that generates the superposition state explained above given the thetas angles.\n",
    "\n",
    "    Args:\n",
    "        - thetas (list(float)): list of angles to apply in the rotations.\n",
    "\n",
    "    Returns:\n",
    "        - (list(complex)): final state.\n",
    "    \"\"\"\n",
    "    dev = qml.device(\"default.qubit\", wires=range(4))\n",
    "    @qml.qnode(dev)\n",
    "    def circuit():\n",
    "        # QHACK #\n",
    "        # Create your circuit: the first three qubits will refer to the index, the fourth to the RY rotation.\n",
    "        # Encode controll qubits in all possible states\n",
    "        for i in range(3):\n",
    "          qml.Hadamard(wires=i)\n",
    "\n",
    "        for i in range(8):\n",
    "          # Generate binary representation of i\n",
    "          bin_i = '{0:03b}'.format(i)\n",
    "          # Each of the possible states of the control qubits will control a specfic R_y rotation on the state\n",
    "          qml.ControlledQubitUnitary(\n",
    "              qml.RY.compute_matrix(thetas[i]), control_wires=[0, 1, 2], wires=3, control_values=bin_i\n",
    "            )\n",
    "        # QHACK #\n",
    "        return qml.state()\n",
    "    return circuit()"
   ],
   "metadata": {
    "id": "0wUH6upA1Qbu"
   },
   "execution_count": null,
   "outputs": []
  },
  {
   "cell_type": "markdown",
   "source": [
    "Testing 1.in"
   ],
   "metadata": {
    "id": "zzvyW3-q1RP4"
   }
  },
  {
   "cell_type": "code",
   "source": [
    "inputs = [0,0,0,0,0,0,0,0]\n",
    "thetas = np.array(inputs, dtype=float)\n",
    "output = qRAM(thetas)\n",
    "output = [float(i.real.round(6)) for i in output]\n",
    "print(*output, sep=\",\")"
   ],
   "metadata": {
    "id": "bdg6MruR1RCY"
   },
   "execution_count": null,
   "outputs": []
  },
  {
   "cell_type": "markdown",
   "source": [
    "Testing 2.in"
   ],
   "metadata": {
    "id": "eKIUh8GP2uKx"
   }
  },
  {
   "cell_type": "code",
   "source": [
    "inputs = [3.141592653589793,3.141592653589793,3.141592653589793,3.141592653589793,3.141592653589793,3.141592653589793,3.141592653589793,3.141592653589793]\n",
    "thetas = np.array(inputs, dtype=float)\n",
    "output = qRAM(thetas)\n",
    "output = [float(i.real.round(6)) for i in output]\n",
    "print(*output, sep=\",\")"
   ],
   "metadata": {
    "id": "RQuuG7zK2Quz"
   },
   "execution_count": null,
   "outputs": []
  },
  {
   "cell_type": "markdown",
   "source": [
    "Testing 3.in"
   ],
   "metadata": {
    "id": "G3-gjP_f2vr0"
   }
  },
  {
   "cell_type": "code",
   "source": [
    "inputs = [0,0.2,0.5,0.1,0.1,0.2,0.4,0.6]\n",
    "thetas = np.array(inputs, dtype=float)\n",
    "output = qRAM(thetas)\n",
    "output = [float(i.real.round(6)) for i in output]\n",
    "print(*output, sep=\",\")"
   ],
   "metadata": {
    "id": "QCiv23wZ2s8b"
   },
   "execution_count": null,
   "outputs": []
  }
 ]
}