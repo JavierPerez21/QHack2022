{
 "nbformat": 4,
 "nbformat_minor": 0,
 "metadata": {
  "colab": {
   "name": "games_400_FindTheCar.ipynb",
   "private_outputs": true,
   "provenance": [],
   "collapsed_sections": [],
   "authorship_tag": "ABX9TyPQVfSrFaaQFSVCAy7sBeYp",
   "include_colab_link": true
  },
  "kernelspec": {
   "name": "python3",
   "display_name": "Python 3"
  },
  "language_info": {
   "name": "python"
  }
 },
 "cells": [
  {
   "cell_type": "markdown",
   "metadata": {
    "id": "view-in-github",
    "colab_type": "text"
   },
   "source": [
    "<a href=\"https://colab.research.google.com/github/JavierPerez21/QHack2022/blob/master/Coding_Challenges/games_400_FindTheCar_template/games_400_FindTheCar.ipynb\" target=\"_parent\"><img src=\"https://colab.research.google.com/assets/colab-badge.svg\" alt=\"Open In Colab\"/></a>"
   ]
  },
  {
   "cell_type": "code",
   "execution_count": null,
   "metadata": {
    "id": "3QKZUpiFmFAS"
   },
   "outputs": [],
   "source": [
    "%%capture \n",
    "!pip install pennylane"
   ]
  },
  {
   "cell_type": "code",
   "source": [
    "from pennylane import numpy as np\n",
    "import pennylane as qml\n",
    "dev = qml.device(\"default.qubit\", wires=[0, 1, \"sol\"], shots=1)"
   ],
   "metadata": {
    "id": "hrtRMw0Hn8jH"
   },
   "execution_count": null,
   "outputs": []
  },
  {
   "cell_type": "markdown",
   "source": [
    "This challenge is similar to the famous [Monty Hall Problem](https://en.wikipedia.org/wiki/Monty_Hall_problem). The difference is that, in this ocassion the player has to guess 1 of 4 doors to find the car. Additinally, instead of being able to check the doors, we can only query an oracle that encodes which of the four doors hides the car.\n",
    "\n",
    "The doors are represented by the 4 possible 2 qubit basis states $|00\\rangle, |01\\rangle |10\\rangle, |11\\rangle$ and the oracle outputs $|1\\rangle$ when it is queried with the state corresponding to the door that hides the car and $|0\\rangle$ otherwise.\n",
    "\n",
    "The goal of this challenge is to find the car with 100% certainty only querying the oracle twice and only using single qubit gates."
   ],
   "metadata": {
    "id": "G2q0DLremSDF"
   }
  },
  {
   "cell_type": "code",
   "source": [
    "def find_the_car(oracle):\n",
    "    \"\"\"Function which, given an oracle, returns which door that the car is behind.\n",
    "\n",
    "    Args:\n",
    "        - oracle (function): function that will act as an oracle. The first two qubits (0,1)\n",
    "        will refer to the door and the third (\"sol\") to the answer.\n",
    "\n",
    "    Returns:\n",
    "        - (int): 0, 1, 2, or 3. The door that the car is behind.\n",
    "    \"\"\"\n",
    "    @qml.qnode(dev)\n",
    "    def circuit1():\n",
    "        # QHACK #\n",
    "        qml.Hadamard(wires=0)\n",
    "        qml.PauliX(wires=\"sol\")\n",
    "        qml.Hadamard(wires=\"sol\")\n",
    "        oracle()\n",
    "        qml.Hadamard(wires=\"sol\")\n",
    "        qml.PauliX(wires=\"sol\")\n",
    "        qml.Hadamard(wires=0)\n",
    "        # QHACK #\n",
    "        return qml.sample()\n",
    "\n",
    "    @qml.qnode(dev)\n",
    "    def circuit2():\n",
    "        # QHACK #\n",
    "        qml.Hadamard(wires=1)\n",
    "        qml.PauliX(wires=\"sol\")\n",
    "        qml.Hadamard(wires=\"sol\")\n",
    "        oracle()\n",
    "        qml.Hadamard(wires=\"sol\")\n",
    "        qml.PauliX(wires=\"sol\")\n",
    "        qml.Hadamard(wires=1)\n",
    "        # QHACK #\n",
    "        return qml.sample()\n",
    "\n",
    "    sol1 = circuit1()\n",
    "    sol2 = circuit2()\n",
    "\n",
    "    # QHACK #\n",
    "\n",
    "    bit1 = sol1[0]\n",
    "    bit2 = sol2[1]\n",
    "\n",
    "    # QHACK #\n",
    "    if bit1 == 0 and bit2 == 0:\n",
    "      return 3\n",
    "    elif bit1 == 1 and bit2 == 1:\n",
    "      return 0\n",
    "    elif bit1 == 1 and bit2 == 0:\n",
    "      return 2\n",
    "    else:\n",
    "      return 1"
   ],
   "metadata": {
    "id": "V9UHHiEJn1qk"
   },
   "execution_count": null,
   "outputs": []
  },
  {
   "cell_type": "markdown",
   "source": [
    "Testing with 1.in. Notice that because of the way the QHack layed out their solutions the binary representation of the door index is switched."
   ],
   "metadata": {
    "id": "uMOqPL_Jg8Xr"
   }
  },
  {
   "cell_type": "code",
   "source": [
    "numbers = [0, 0]\n",
    "\n",
    "def oracle():\n",
    "    if numbers[0] == 1:\n",
    "        qml.PauliX(wires=0)\n",
    "    if numbers[1] == 1:\n",
    "        qml.PauliX(wires=1)\n",
    "    qml.Toffoli(wires=[0, 1, \"sol\"])\n",
    "    if numbers[0] == 1:\n",
    "        qml.PauliX(wires=0)\n",
    "    if numbers[1] == 1:\n",
    "        qml.PauliX(wires=1)\n",
    "\n",
    "mapping = {0:3, 1:2, 2:1, 3:0}\n",
    "\n",
    "output = find_the_car(oracle)\n",
    "car_door = mapping[numbers[0]*2 + numbers[1]]\n",
    "print(f\"Car is in door {car_door} and we chose {output}\")"
   ],
   "metadata": {
    "id": "bn4jvUlHn3Pg"
   },
   "execution_count": null,
   "outputs": []
  },
  {
   "cell_type": "markdown",
   "source": [
    "First, let's take a look at the possible oracles."
   ],
   "metadata": {
    "id": "qpwaQA6d07Y6"
   }
  },
  {
   "cell_type": "code",
   "source": [
    "@qml.qnode(dev)\n",
    "def visualoracle(numbers):\n",
    "    if numbers[0] == 1:\n",
    "        qml.PauliX(wires=0)\n",
    "    if numbers[1] == 1:\n",
    "        qml.PauliX(wires=1)\n",
    "    qml.Toffoli(wires=[0, 1, \"sol\"])\n",
    "    if numbers[0] == 1:\n",
    "        qml.PauliX(wires=0)\n",
    "    if numbers[1] == 1:\n",
    "        qml.PauliX(wires=1)\n",
    "    return qml.sample()\n",
    "for numbers in [[0,0], [0, 1], [1, 0], [0, 0]]: \n",
    "  print(numbers, \"car in door number\", mapping[numbers[0]*2+numbers[1]])\n",
    "  drawer = qml.draw(visualoracle)\n",
    "  print(drawer(numbers))"
   ],
   "metadata": {
    "id": "nPfkJEsKzgyc"
   },
   "execution_count": null,
   "outputs": []
  },
  {
   "cell_type": "markdown",
   "source": [
    "Let's focus our analysis on door 2"
   ],
   "metadata": {
    "id": "VRnykLlciRLg"
   }
  },
  {
   "cell_type": "code",
   "source": [
    "def binary_list(m, n):\n",
    "    arr = []\n",
    "    # Create the 0 representation of length n\n",
    "    for i in range(0, n):\n",
    "        arr.append(0)\n",
    "    i = 0\n",
    "    # Set the elements of arr to represent m\n",
    "    while m != 0:\n",
    "        arr[len(arr) - 1 - i] = int(m) % 2\n",
    "        m = int(m / 2)\n",
    "        i += 1\n",
    "    return arr\n",
    "\n",
    "def get_basis_states(n):\n",
    "    arr = []\n",
    "    # Create all possible binary lists from 0 to 2**n\n",
    "    for i in range(0, 2**n):\n",
    "        arr.append(binary_list(i, n))\n",
    "    return arr\n",
    "\n",
    "def get_state_amplitudes(state):\n",
    "    i = 0\n",
    "    m = len(state)\n",
    "    while m > 1:\n",
    "      m = m //2\n",
    "      i += 1\n",
    "    new_shape = [2]*i\n",
    "    basis_states = get_basis_states(i)\n",
    "    state = state.reshape(new_shape)\n",
    "    for bs in basis_states:\n",
    "      bs_a = state[bs[0]]\n",
    "      for i in bs[1:]:\n",
    "        bs_a = bs_a[i]\n",
    "      bs_a = np.round(bs_a.real, 3)\n",
    "      if bs_a != 0:\n",
    "        st = \"|\"\n",
    "        for i in bs:\n",
    "          st += str(i)\n",
    "        st += \">\"\n",
    "        print(f\"{st}: {bs_a}\")\n",
    "    return st\n",
    "\n",
    "#get_state_amplitudes(np.array([1]*8))"
   ],
   "metadata": {
    "id": "bpke7MYj1yqG"
   },
   "execution_count": null,
   "outputs": []
  },
  {
   "cell_type": "code",
   "source": [
    "numbers = [0, 1]\n",
    "\n",
    "dev2 = qml.device(\"default.qubit\", wires=[0, 1, 2])\n",
    "\n",
    "def partial_circuit(i):\n",
    "    if i > 0:\n",
    "      qml.Hadamard(wires=0)\n",
    "      qml.PauliX(wires=2)\n",
    "      qml.Hadamard(wires=2)\n",
    "    if i > 1:\n",
    "      if numbers[0] == 1:\n",
    "        qml.PauliX(wires=0)\n",
    "      if numbers[1] == 1:\n",
    "          qml.PauliX(wires=1)\n",
    "    if i > 2:\n",
    "      qml.Toffoli(wires=[0, 1, 2])\n",
    "    if i > 3:\n",
    "      if numbers[0] == 1:\n",
    "        qml.PauliX(wires=0)\n",
    "      if numbers[1] == 1:\n",
    "          qml.PauliX(wires=1)\n",
    "    if i > 4:\n",
    "      qml.Hadamard(wires=2)\n",
    "      qml.PauliX(wires=2)\n",
    "      qml.Hadamard(wires=0)\n",
    "      \n",
    "\n",
    "for i in range(6):\n",
    "    @qml.qnode(dev2)\n",
    "    def circ():\n",
    "        partial_circuit(i)\n",
    "        return qml.state()\n",
    "    state = circ()\n",
    "    print(f\"state at {i}\")\n",
    "    if i != 0:\n",
    "      drawer = qml.draw(circ)\n",
    "      print(drawer()) \n",
    "    get_state_amplitudes(state)\n"
   ],
   "metadata": {
    "id": "LyAaonia47sC"
   },
   "execution_count": null,
   "outputs": []
  },
  {
   "cell_type": "markdown",
   "source": [
    "We can also follow through this circuit mathematically [0, 1, sol]:\n",
    "\n",
    "$$\n",
    "|\\psi_0\\rangle = |0\\rangle \\otimes |0\\rangle \\otimes |0\\rangle = |000\\rangle\n",
    "$$\n",
    "Apply $X_{sol}$.\n",
    "$$\n",
    "|\\psi_1\\rangle = |0\\rangle \\otimes |0\\rangle \\otimes |1\\rangle = |001\\rangle\n",
    "$$\n",
    "Apply $H_0$ and $H_{sol}$.\n",
    "$$\n",
    "|\\psi_2\\rangle = |+\\rangle \\otimes |0\\rangle \\otimes |-\\rangle =  \\frac{1}{\\sqrt{2}}(|0\\rangle + |1\\rangle) \\otimes |0\\rangle \\otimes \\frac{1}{\\sqrt{2}}(|0\\rangle - |1\\rangle) = \\frac{1}{2}(|000\\rangle - |001\\rangle + |100\\rangle - |101\\rangle )\n",
    "$$\n",
    "Apply $X_1$\n",
    "$$\n",
    "|\\psi_3\\rangle = |+\\rangle \\otimes |1\\rangle \\otimes |-\\rangle =  \\frac{1}{\\sqrt{2}}(|0\\rangle + |1\\rangle) \\otimes |1\\rangle \\otimes \\frac{1}{\\sqrt{2}}(|0\\rangle - |1\\rangle) = \\frac{1}{2}(|010\\rangle - |011\\rangle + |110\\rangle - |111\\rangle )\n",
    "$$\n",
    "Apply $Toffoli_{00,sol}$\n",
    "$$\n",
    "|\\psi_4\\rangle = |-\\rangle \\otimes |1\\rangle \\otimes |-\\rangle =  \\frac{1}{\\sqrt{2}}(|0\\rangle + |1\\rangle) \\otimes |1\\rangle \\otimes \\frac{1}{\\sqrt{2}}(|0\\rangle - |1\\rangle) = \\frac{1}{2}(|010\\rangle - |011\\rangle + |111\\rangle - |110\\rangle )\n",
    "$$\n",
    "Apply $X_1$\n",
    "$$\n",
    "|\\psi_5\\rangle = |-\\rangle \\otimes |0\\rangle \\otimes |-\\rangle =  \\frac{1}{\\sqrt{2}}(|0\\rangle + |1\\rangle) \\otimes |0\\rangle \\otimes \\frac{1}{\\sqrt{2}}(|0\\rangle - |1\\rangle) = \\frac{1}{2}(|000\\rangle - |001\\rangle + |101\\rangle - |100\\rangle )\n",
    "$$\n",
    "Apply $H_0$ and $H_{sol}$.\n",
    "$$\n",
    "|\\psi_6\\rangle = |1\\rangle \\otimes |0\\rangle \\otimes |1\\rangle = |101\\rangle\n",
    "$$\n",
    "Apply $X_{sol}$.\n",
    "$$\n",
    "|\\psi_7\\rangle = |1\\rangle \\otimes |0\\rangle \\otimes |0\\rangle = |100\\rangle\n",
    "$$"
   ],
   "metadata": {
    "id": "ZPCacjp1j4Iv"
   }
  },
  {
   "cell_type": "markdown",
   "source": [
    "Following the same principles we can map the input to outputs of all combinations."
   ],
   "metadata": {
    "id": "_W43-WHdZalW"
   }
  },
  {
   "cell_type": "code",
   "source": [
    "numbers = [1, 1]\n",
    "\n",
    "dev2 = qml.device(\"default.qubit\", wires=[0, 1, 2])\n",
    "\n",
    "def oracle():\n",
    "    if numbers[0] == 1:\n",
    "        qml.PauliX(wires=0)\n",
    "    if numbers[1] == 1:\n",
    "        qml.PauliX(wires=1)\n",
    "    qml.Toffoli(wires=[0, 1, 2])\n",
    "    if numbers[0] == 1:\n",
    "        qml.PauliX(wires=0)\n",
    "    if numbers[1] == 1:\n",
    "        qml.PauliX(wires=1)\n",
    "\n",
    "@qml.qnode(dev2)\n",
    "def circuit1():\n",
    "    # QHACK #\n",
    "    qml.Hadamard(wires=0)\n",
    "    qml.PauliX(wires=2)\n",
    "    qml.Hadamard(wires=2)\n",
    "    oracle()\n",
    "    qml.Hadamard(wires=2)\n",
    "    qml.PauliX(wires=2)\n",
    "    qml.Hadamard(wires=0)\n",
    "    # QHACK #\n",
    "    return qml.state()\n",
    "\n",
    "@qml.qnode(dev2)\n",
    "def circuit2():\n",
    "    # QHACK #\n",
    "    qml.Hadamard(wires=1)\n",
    "    qml.PauliX(wires=2)\n",
    "    qml.Hadamard(wires=2)\n",
    "    oracle()\n",
    "    qml.Hadamard(wires=2)\n",
    "    qml.PauliX(wires=2)\n",
    "    qml.Hadamard(wires=1)\n",
    "    # QHACK #\n",
    "    return qml.state()\n",
    "      \n",
    "for numbers in [[1,1], [1, 0], [0, 1], [0, 0]]:\n",
    "  for c in [\"c1\", \"c2\"]:\n",
    "    if c == \"c1\":\n",
    "      state = circuit1()\n",
    "      st = get_state_amplitudes(state)\n",
    "      print(numbers, c, \"bit1=\", st[1])\n",
    "    else:\n",
    "      state = circuit2()\n",
    "      st = get_state_amplitudes(state)\n",
    "      print(numbers, c, \"bit2=\", st[2])\n",
    "      "
   ],
   "metadata": {
    "id": "lvJVdVuxpcot"
   },
   "execution_count": null,
   "outputs": []
  },
  {
   "cell_type": "markdown",
   "source": [
    " | Door | Numbers | Circuit | Output | bit1 | bit2 |\n",
    "| --- | --- | --- | --- | --- | --- |\n",
    "| 0 | [1, 1] | C1 | 100 | 1 |   | \n",
    "| 0 | [1, 1] | C2 | 010 |   | 1 |\n",
    "| 1 | [1, 0] | C1 | 000 | 0 |   |\n",
    "| 1 | [1, 0] | C2 | 010 |   | 1 |\n",
    "| 2 | [0, 1] | C1 | 100 | 1 |   |\n",
    "| 2 | [0, 1] | C2 | 000 |   | 0 |\n",
    "| 3 | [0, 0] | C1 | 000 | 0 |   |\n",
    "| 3 | [0, 0] | C2 | 000 |   | 0 |\n",
    "\n",
    "Now we can see that the output states clearly return the initial numbers that are used to configure the oracle and with the conditions previously specified, we can get the correct door:\n",
    "\n",
    "```\n",
    "bit1 = sol1[0]\n",
    "bit2 = sol2[1]\n",
    "\n",
    "if bit1 == 0 and bit2 == 0:\n",
    "  return 3\n",
    "elif bit1 == 1 and bit2 == 1:\n",
    "  return 0\n",
    "elif bit1 == 1 and bit2 == 0:\n",
    "  return 2\n",
    "else:\n",
    "  return 1\n",
    "```"
   ],
   "metadata": {
    "id": "Wq_tlIihn_yK"
   }
  },
  {
   "cell_type": "markdown",
   "source": [
    "The reason behind this behaviour is in the Toffoli gate. It is easy to see that for [0, 0], i.e. door 3, qubits 0 and 1 are never in state $|1\\rangle$ at the same time so the outputs are $|000\\rangle$ for both circuits. This is also the case for circuit1 when the numbers are [1, 0] and for circuit2 when the numbers are [0, 1]. However, we do have both qubits in state $|1\\rangle$ with circuit2 and numbers[1, 0] and for circuit1 and numbers [0, 1]. Lastly, for numbers [1, 1], none of the circuits produces the state $|000\\rangle$ since both qubits are in a superposition of state $|1\\rangle$ when they reach the Toffoli gate. This creates 4 possible combinations for 4 possible doors. Once one can understand these combinations, it is straightforward to guess the door."
   ],
   "metadata": {
    "id": "heeVDxhrZrH_"
   }
  }
 ]
}