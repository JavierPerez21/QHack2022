{
 "nbformat": 4,
 "nbformat_minor": 0,
 "metadata": {
  "colab": {
   "name": "algorithms_200_AdaptingTopology.ipynb",
   "private_outputs": true,
   "provenance": [],
   "authorship_tag": "ABX9TyNMQNyP7A7DrAoejajaJN0f",
   "include_colab_link": true
  },
  "kernelspec": {
   "name": "python3",
   "display_name": "Python 3"
  },
  "language_info": {
   "name": "python"
  }
 },
 "cells": [
  {
   "cell_type": "markdown",
   "metadata": {
    "id": "view-in-github",
    "colab_type": "text"
   },
   "source": [
    "<a href=\"https://colab.research.google.com/github/JavierPerez21/QHack2022/blob/master/Coding_Challenges/algorithms_200_AdaptingTopology_template/algorithms_200_AdaptingTopology.ipynb\" target=\"_parent\"><img src=\"https://colab.research.google.com/assets/colab-badge.svg\" alt=\"Open In Colab\"/></a>"
   ]
  },
  {
   "cell_type": "code",
   "execution_count": null,
   "metadata": {
    "id": "sv7_uaW_uXmw"
   },
   "outputs": [],
   "source": [
    "%%capture\n",
    "!pip install pennylane"
   ]
  },
  {
   "cell_type": "code",
   "source": [
    "from pennylane import numpy as np\n",
    "import pennylane as qml\n",
    "import networkx as nx\n",
    "import matplotlib.pyplot as plt\n",
    "import pandas as pd\n",
    "import random"
   ],
   "metadata": {
    "id": "_tDbioKXuxdO"
   },
   "execution_count": null,
   "outputs": []
  },
  {
   "cell_type": "code",
   "source": [
    "graph = {\n",
    "    0: [1],\n",
    "    1: [0, 2, 3, 4],\n",
    "    2: [1],\n",
    "    3: [1],\n",
    "    4: [1, 5, 7, 8],\n",
    "    5: [4, 6],\n",
    "    6: [5, 7],\n",
    "    7: [4, 6],\n",
    "    8: [4],\n",
    "}\n",
    "\n",
    "M = [[0]*9]*9\n",
    "M = pd.DataFrame(M)\n",
    "for n in graph.keys():\n",
    "  for c in graph[n]:\n",
    "    M[n][c] = 1\n",
    "    M[c][n] = 1\n",
    "\n",
    "G = nx.from_pandas_adjacency(pd.DataFrame(M))\n",
    "\n",
    "fig = plt.figure(figsize=(5, 5))\n",
    "nx.draw(G, node_size = 1500, labels={node:str(node) for k, node in enumerate(range(0, len(M)))}, with_labels=True, node_color='red')\n",
    "plt.title(\"Quantum Hardware Topology\")\n",
    "plt.show()"
   ],
   "metadata": {
    "id": "ne9hi78xvG1d"
   },
   "execution_count": null,
   "outputs": []
  },
  {
   "cell_type": "markdown",
   "source": [
    "Whereas with classical computer, we don't need to worry about how our code gets implemented on hardware, we are still at the early stages of quantum computing so it is important to understand and be able to change how our programs are run on quantum hardware. A common limitation of real devices is that not all connections between qubits are allowed. For example, in the quantum hardware shown above (where each bulb represents a qubit) one cannot directly apply a CNOT gate between qubits 0 and 2.\n",
    "\n",
    "We can work around this by using the swap gate, which has the following effect:\n",
    "\n",
    "$$\n",
    "SWAP|\\theta_j\\rangle \\otimes |\\theta_i\\rangle = |\\theta_i\\rangle |\\theta_j\\rangle\n",
    "$$\n",
    "\n",
    "To apply a CNOT between 0 and 2 we can do this: $CNOT_{0, 2} = SWAP_{0, 1} CNOT_{1, 2} SWAP_{0, 1}$\n",
    "\n",
    "The goal of this challenge is to calculate the minimum number of SWAP gates needed to perform a CNOT gate between 2 random qubit sin this hardware."
   ],
   "metadata": {
    "id": "8YAWiUCWwzlJ"
   }
  },
  {
   "cell_type": "markdown",
   "source": [
    "It is very easy to contextualize this problem as findinf the minimum distance between two nodes of a graph, that is, finding the minimum number of edges between two nodes."
   ],
   "metadata": {
    "id": "tiLN5lt_2FeD"
   }
  },
  {
   "cell_type": "code",
   "source": [
    "def n_swaps(cnot):\n",
    "    \"\"\"Count the minimum number of swaps needed to create the equivalent CNOT.\n",
    "\n",
    "    Args:\n",
    "        - cnot (qml.Operation): A CNOT gate that needs to be implemented on the hardware\n",
    "        You can find out the wires on which an operator works by asking for the 'wires' attribute: 'cnot.wires'\n",
    "\n",
    "    Returns:\n",
    "        - (int): minimum number of swaps\n",
    "    \"\"\"\n",
    "\n",
    "    # QHACK #\n",
    "    wires = [x for x in cnot.wires]\n",
    "    edges = graph.copy()\n",
    "    control = wires[0]  \n",
    "    target = wires[1]\n",
    "    # We need to create 2 lists to keep track of visited nodes as we move through the graph and the distances to these nodes from the control qubit\n",
    "    visited = [0] * len(edges)\n",
    "    distance = [0] * len(edges)\n",
    "    Q = [control] # Queue of nodes we can visit from current node\n",
    "    visited[control] = True\n",
    "    while len(Q) > 0:\n",
    "        x = Q.pop(0)\n",
    "        # Get first element of queue (node x)\n",
    "        for i in range(len(edges[x])):\n",
    "          # Iterate through nodes available from node x\n",
    "            if visited[int(edges[x][i])]:\n",
    "              # If we have already visited this node, we skip it, since that emans we already have a shorter connection to it\n",
    "                continue\n",
    "            # Otherwise the distance to this node i is equal to the current distance to node x, plus 1\n",
    "            distance[int(edges[x][i])] = distance[x] + 1\n",
    "            Q.append(int(edges[x][i])) # Add node i to the queue of available nodes\n",
    "            visited[int(edges[x][i])] = True  # Label node i as visited\n",
    "    # distance[target] will have the minimum number of edges between the control and target qubits. \n",
    "    # To get the number of SWAPS we simply do 2*(edges-1)\n",
    "    return (distance[target]-1)*2\n",
    "    # QHACK #"
   ],
   "metadata": {
    "id": "nb6Qgbg95859"
   },
   "execution_count": null,
   "outputs": []
  },
  {
   "cell_type": "code",
   "source": [
    "fig = plt.figure(figsize=(5, 5))\n",
    "nx.draw(G, node_size = 1500, labels={node:str(node) for k, node in enumerate(range(0, len(M)))}, with_labels=True, node_color='red')\n",
    "plt.title(\"Quantum Hardware Topology\")\n",
    "plt.show()\n",
    "\n",
    "for i in range(0, 9):\n",
    "  for j in range(i,9):\n",
    "    if i == j:\n",
    "      continue\n",
    "    inputs = [i, j]\n",
    "    output = n_swaps(qml.CNOT(wires=[int(i) for i in inputs]))\n",
    "    print(f\"To apply a CNOT gate between qubits {inputs[0]} and {inputs[1]} we need {output} SWAP gates.\")"
   ],
   "metadata": {
    "id": "QQvEkK5A3a42"
   },
   "execution_count": null,
   "outputs": []
  }
 ]
}