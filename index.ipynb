{
 "cells": [
  {
   "cell_type": "markdown",
   "source": [
    "# QHack2022\n",
    "Welcome to the QHack2022 repo of QSolutions! Our team completed all 25 Coding CHallenges and finished #29 in the leaderboard.\n",
    "\n",
    "This repository contains our teams solutions to all the Coding Challenges of QHack2022.\n",
    "\n",
    "## Coding Challenges\n",
    "### Pennylane101\n",
    "* [Order Matters](./Coding_Challenges/pennylane101_100_OrderMatters_template/problem.pdf) --> [See solution](./Coding_Challenges/pennylane101_100_OrderMatters_template/pennylane101_100_OrderMatters.ipynb)\n",
    "* [Know Your Devices](./Coding_Challenges/pennylane101_200_KnowYourDevices_template/problem.pdf) --> [See solution](./Coding_Challenges/pennylane101_200_KnowYourDevices_template/pennylane101_200_KnowYourDevices.ipynb)\n",
    "* [Superdense Coding](./Coding_Challenges/pennylane101_300_superdense_coding_template/problem.pdf) --> [See solution](./Coding_Challenges/pennylane101_300_superdense_coding_template/pennylane101_300_superdense_coding.ipynb)\n",
    "* [Finite Difference Gradient](./Coding_Challenges/pennylane101_400_FiniteDifferenceGradient_template/problem.pdf) --> [See solution](./Coding_Challenges/pennylane101_400_FiniteDifferenceGradient_template/pennylane101_400_FiniteDifferenceGradient.ipynb)\n",
    "* [Bit Flip Error Code](./Coding_Challenges/pennylane101_500_BitflipErrorCode_template/problem.pdf) --> [See solution](./Coding_Challenges/pennylane101_500_BitflipErrorCode_template/pennylane101_500_BitFlipError.ipynb)\n",
    "### Algorithms\n",
    "* [Detusch Jozsa](./Coding_Challenges/algorithms_100_DeutschJozsa_template/problem.pdf) --> [See solution](./Coding_Challenges/algorithms_100_DeutschJozsa_template/algorithms_100_DeutschJozsa.ipynb)\n",
    "* [Adapting Topology](./Coding_Challenges/algorithms_200_AdaptingTopology_template/problem.pdf) --> [See solution](./Coding_Challenges/algorithms_200_AdaptingTopology_template/algorithms_200_AdaptingTopology.ipynb)\n",
    "* [AdderQFT](./Coding_Challenges/algorithms_300_AdderQFT_template/problem.pdf) --> [See solution](./Coding_Challenges/algorithms_300_AdderQFT_template/algorithms_300_adder_QFT.ipynb)\n",
    "* [Quantum Counting](./Coding_Challenges/algorithms_400_QuantumCounting_template/problem.pdf) -->  [See solution](./Coding_Challenges/algorithms_400_QuantumCounting_template/algorithms_400_QuantumCounting.ipynb)\n",
    "* [Detusch Jozsa Strikes Again](./Coding_Challenges/algorithms_500_DeutschJozsaStrikesAgain_template/problem.pdf) --> [See solution](./Coding_Challenges/algorithms_500_DeutschJozsaStrikesAgain_template/algorithms_500_DetuschJozsaStrikesAgain.ipynb)\n",
    "### Games\n",
    "* [Tardigrade Masquerade](./Coding_Challenges/games_100_TardigradeMasquerade_template/problem.pdf) --> [See solution](./Coding_Challenges/games_100_TardigradeMasquerade_template/games_100_TardigradeMasquerade.ipynb)\n",
    "* [CHSH](./Coding_Challenges/games_200_CHSH_template/problem.pdf) --> [See solution](./Coding_Challenges/games_200_CHSH_template/games_200_CHSH.ipynb)\n",
    "* [Elitzur Vaidman](./Coding_Challenges/games_300_Elitzur_Vaidman_template/problem.pdf) --> [See solution](./Coding_Challenges/games_300_Elitzur_Vaidman_template/games_300_ElitzurVaidman.ipynb)\n",
    "* [Find The Car](./Coding_Challenges/games_400_FindTheCar_template/problem.pdf) --> [See solution](./Coding_Challenges/games_400_FindTheCar.ipynb)\n",
    "* [Switches](./Coding_Challenges/games_500_switches_template/problem.pdf) --> [See solution](./Coding_Challenges/games_500_switches.ipynb)\n",
    "### Quantum Chemistry\n",
    "* [Is Particle Preserving](./Coding_Challenges/qchem_100_IsParticlePreserving_template/problem.pdf) --> [See solution](./Coding_Challenges/qchem_100_IsParticlePreserving_template/qchem_100_IsParticlePreserving.ipynb)\n",
    "* [Optimizing Measurements](./Coding_Challenges/qchem_200_OptimizingMeasurements_template/problem.pdf) --> [See solution](./Coding_Challenges/qchem_200_OptimizingMeasurements_template/qchem_200_OptimizingMeasurements.ipynb)\n",
    "* [Universality Givens](./Coding_Challenges/qchem_300_Universality_Givens_template/problem.pdf) --> [See solution](./Coding_Challenges/qchem_300_Universality_Givens_template/qchem_300_UniversalityGivens.ipynb)\n",
    "* [Triple Givens](./Coding_Challenges/qchem_400_Triple_Givens_template/problem.pdf) --> [See solution](./Coding_Challenges/qchem_400_Triple_Givens_template/qchem_400_TripleGivens.ipynb)\n",
    "* [Mind The Gap](./Coding_Challenges/qchem_500_MindTheGap_template/problem.pdf) --> [See solution](./Coding_Challenges/qchem_500_MindTheGap_template/qchem_500_MindTheGap.ipynb)\n",
    "### Quantum Machine Learning\n",
    "* [Generating Fourier State](./Coding_Challenges/qml_100_GeneratingFourierState_template/problem.pdf) --> [See solution](./Coding_Challenges/qml_100_GeneratingFourierState_template/qml_100_GeneratingFourierState.ipynb)\n",
    "* [Who Likes The Beatles](./Coding_Challenges/qml_200_WhoLikesTheBeatles_template/problem.pdf) --> [See solution](./Coding_Challenges/qml_200_WhoLikesTheBeatles_template/qml_200_WhoLikesTheBeatles.ipynb)\n",
    "* [Ising On The Cake](./Coding_Challenges/qml_300_IsingOnTheCake_template/problem.pdf) --> [See solution](./Coding_Challenges/qml_300_IsingOnTheCake_template/qml_300_IsingOnTheCake.ipynb)\n",
    "* [Building QRAM](./Coding_Challenges/qml_400_BuildingQRAM_template/problem.pdf) --> [See solution](./Coding_Challenges/qml_400_BuildingQRAM_template/qml_400_BuildingQRAM.ipynb)\n",
    "* [UDMIS](./Coding_Challenges/qml_500_UDMIS_template/problem.pdf) --> [See solution](./Coding_Challenges/qml_500_UDMIS_template/qml_500_UDMIS.ipynb)\n",
    "\n",
    "\n",
    "Team members:\n",
    "* [Javier Perez](https://github.com/JavierPerez21)\n",
    "* [Ivan Carvalho](https://github.com/IvanIsCoding)\n",
    "* [Quinn Bartlett](https://github.com/quinn00)\n",
    "* [Nolan Koblischke](https://github.com/NolanKoblischke)\n",
    "* [Leo Caffarello](https://github.com/leoCaffarello)"
   ],
   "metadata": {
    "collapsed": false
   }
  }
 ],
 "metadata": {
  "kernelspec": {
   "display_name": "Python 3",
   "language": "python",
   "name": "python3"
  },
  "language_info": {
   "codemirror_mode": {
    "name": "ipython",
    "version": 2
   },
   "file_extension": ".py",
   "mimetype": "text/x-python",
   "name": "python",
   "nbconvert_exporter": "python",
   "pygments_lexer": "ipython2",
   "version": "2.7.6"
  }
 },
 "nbformat": 4,
 "nbformat_minor": 0
}