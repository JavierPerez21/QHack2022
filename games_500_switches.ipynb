{
  "nbformat": 4,
  "nbformat_minor": 0,
  "metadata": {
    "colab": {
      "name": "games_500_switches.ipynb",
      "private_outputs": true,
      "provenance": [],
      "authorship_tag": "ABX9TyMXMpMmxDbX0kTwSAhcGQjU",
      "include_colab_link": true
    },
    "kernelspec": {
      "name": "python3",
      "display_name": "Python 3"
    },
    "language_info": {
      "name": "python"
    }
  },
  "cells": [
    {
      "cell_type": "markdown",
      "metadata": {
        "id": "view-in-github",
        "colab_type": "text"
      },
      "source": [
        "<a href=\"https://colab.research.google.com/github/JavierPerez21/QHack2022/blob/master/games_500_switches.ipynb\" target=\"_parent\"><img src=\"https://colab.research.google.com/assets/colab-badge.svg\" alt=\"Open In Colab\"/></a>"
      ]
    },
    {
      "cell_type": "code",
      "execution_count": null,
      "metadata": {
        "id": "DMJFnSDEy2o5"
      },
      "outputs": [],
      "source": [
        "%%capture\n",
        "!pip install pennylane"
      ]
    },
    {
      "cell_type": "code",
      "source": [
        "from pennylane import numpy as np\n",
        "import pennylane as qml"
      ],
      "metadata": {
        "id": "1zBCdkyX10It"
      },
      "execution_count": null,
      "outputs": []
    },
    {
      "cell_type": "markdown",
      "source": [
        "This games consists of 3 switches and 1 lightbulb, each represented by a qubit that can be either on (1) or off (0). Some switches migh not work and to guess which work, we naively turn them on or off. They are set up in such a way that two working switches being activated cancel each other.\n",
        "\n",
        "The goal of this challenge is to determine which switches work and which do with a single query to an oracle (as shown below) that represents the behaviour of the light with respect to the switches.\n",
        "\n",
        "\n",
        "```\n",
        "def oracle(switches):\n",
        "    for i in switches:\n",
        "        qml.CNOT(wires=[i, \"light\"])\n",
        "```"
      ],
      "metadata": {
        "id": "0WwWBVCTzZ-d"
      }
    },
    {
      "cell_type": "markdown",
      "source": [
        "This problem can be though of as an application of the [Bernstein-Vazirani algorithm](https://qiskit.org/textbook/ch-algorithms/bernstein-vazirani.html) in which the state $|s\\rangle$ we want to find represents the working of the switches. "
      ],
      "metadata": {
        "id": "hB8kmaTM5mV_"
      }
    },
    {
      "cell_type": "code",
      "source": [
        "def switch(oracle):\n",
        "    \"\"\"Function that, given an oracle, returns a list of switches that work by executing a\n",
        "    single circuit with a single shot. The code you write for this challenge should be completely\n",
        "    contained within this function between the # QHACK # comment markers.\n",
        "\n",
        "    Args:\n",
        "        - oracle (function): oracle that simulates the behavior of the lights.\n",
        "\n",
        "    Returns:\n",
        "        - (list(int)): List with the switches that work. Example: [0,2].\n",
        "    \"\"\"\n",
        "\n",
        "    dev = qml.device(\"default.qubit\", wires=[0, 1, 2, \"light\"], shots=1)\n",
        "\n",
        "    @qml.qnode(dev)\n",
        "    def circuit():\n",
        "\n",
        "        # QHACK #\n",
        "        # Bernstein-Vazirani preprocessing\n",
        "        for i in range(3):\n",
        "            qml.Hadamard(wires=i)\n",
        "        qml.PauliX(wires=\"light\")\n",
        "        qml.Hadamard(wires=\"light\")\n",
        "        # Oracle\n",
        "        oracle()\n",
        "        # Bernstein-Vazirani postprocessing\n",
        "        for i in range(3):\n",
        "            qml.Hadamard(wires=i)\n",
        "        # QHACK #\n",
        "\n",
        "        return qml.sample(wires=range(3))\n",
        "\n",
        "    sample = circuit()\n",
        "    \n",
        "    # QHACK #\n",
        "    # Getnumber of switches that work\n",
        "    sample = [i for i in range(0, len(sample)) if sample[i] == 1]\n",
        "    # QHACK #\n",
        "    return sample"
      ],
      "metadata": {
        "id": "1wuAB_Uj1lLn"
      },
      "execution_count": null,
      "outputs": []
    },
    {
      "cell_type": "markdown",
      "source": [
        "Testing with 1.in"
      ],
      "metadata": {
        "id": "a6kh106311Zz"
      }
    },
    {
      "cell_type": "code",
      "source": [
        "inputs = [0,1,2,0]\n",
        "# By this convention, if the switch index appears an even number of times, it will not work. If the switch appears an odd number of times, \n",
        "# the switch will work.\n",
        "\n",
        "numbers = [int(i) for i in inputs]\n",
        "\n",
        "def oracle():\n",
        "    for i in numbers:\n",
        "        qml.CNOT(wires=[i, \"light\"])\n",
        "\n",
        "output = switch(oracle)\n",
        "print(\"The switches that work are\", output)"
      ],
      "metadata": {
        "id": "wLo5IPAB14P9"
      },
      "execution_count": null,
      "outputs": []
    }
  ]
}