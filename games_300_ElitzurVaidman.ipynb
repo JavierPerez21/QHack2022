{
  "nbformat": 4,
  "nbformat_minor": 0,
  "metadata": {
    "colab": {
      "name": "games_300_ElitzurVaidman.ipynb",
      "private_outputs": true,
      "provenance": [],
      "authorship_tag": "ABX9TyOxDj8W+xUdcnfB9aocehG3",
      "include_colab_link": true
    },
    "kernelspec": {
      "name": "python3",
      "display_name": "Python 3"
    },
    "language_info": {
      "name": "python"
    }
  },
  "cells": [
    {
      "cell_type": "markdown",
      "metadata": {
        "id": "view-in-github",
        "colab_type": "text"
      },
      "source": [
        "<a href=\"https://colab.research.google.com/github/JavierPerez21/QHack2022/blob/master/games_300_ElitzurVaidman.ipynb\" target=\"_parent\"><img src=\"https://colab.research.google.com/assets/colab-badge.svg\" alt=\"Open In Colab\"/></a>"
      ]
    },
    {
      "cell_type": "code",
      "execution_count": null,
      "metadata": {
        "id": "3TVeRCC3S4aN"
      },
      "outputs": [],
      "source": [
        "%%capture\n",
        "!pip install pennylane"
      ]
    },
    {
      "cell_type": "code",
      "source": [
        "import pennylane as qml\n",
        "from pennylane import numpy as np\n",
        "\n",
        "dev = qml.device(\"default.qubit\", wires=1, shots=1)"
      ],
      "metadata": {
        "id": "cVfIwvp5TlA_"
      },
      "execution_count": null,
      "outputs": []
    },
    {
      "cell_type": "markdown",
      "source": [
        "The [Elitzur-Vaidman bomb tester](https://en.wikipedia.org/wiki/Elitzur%E2%80%93Vaidman_bomb_tester) is a quantum algorithm that evidences one of the weird features of quantum mechanics that come from superposition. This algorithm is a thought experiment that allows us to verify if a bomb is functional without triggering it.\n",
        "\n",
        "This algorithm is based on beam splitters that are represented by:\n",
        "\n",
        "$$\n",
        "U_{BS}(\\theta) = R_y(2\\theta)\n",
        "$$\n",
        "\n",
        "and it works in the following way:\n",
        "\n",
        "1. A photon travels through the beam splitter\n",
        "2. We sample the photon and force it to go through one of two paths depending on its state after sampling ($|0\\rangle$ or $|1\\rangle$). \n",
        "3. A bomb is placed on the $|0\\rangle$ path. If the bomb goes through it, and the bomb is live, it will explode with probability equal to the probability of the photon sampling returning $|0\\rangle$. If the bomb is a dud, the photon can travel freely through the $|0\\rangle$ path.\n",
        "4. Several beam splitters are connected with their outputs conencted to the next beam splitters inputs.\n",
        "5. At the end of the circuit there are 2 detectors C and D. If there is no functional bomb present, only detector C will beep. However, if there is a genuine bomb, and if the bomb does not explode, either detector may beep. Thus, if detector D beeps at all, we have detected a real bomb without exploding it! But if detector C beeps, we cannot say anything about the bomb.\n",
        "\n",
        "The goal of this challenge is to calculate the number of bombs that can be certified as functional without detonating them. By adjusting $\\theta$ and chagnging the number of beam splitters, this number can be adjusted."
      ],
      "metadata": {
        "id": "GT3TgqAbTut1"
      }
    },
    {
      "cell_type": "code",
      "source": [
        "@qml.qnode(dev)\n",
        "def is_bomb(angle):\n",
        "    \"\"\"Construct a circuit at implements a one shot measurement at the bomb.\n",
        "\n",
        "    Args:\n",
        "        - angle (float): transmissivity of the Beam splitter, corresponding\n",
        "        to a rotation around the Y axis.\n",
        "\n",
        "    Returns:\n",
        "        - (np.ndarray): a length-1 array representing result of the one-shot measurement\n",
        "    \"\"\"\n",
        "\n",
        "    # QHACK #\n",
        "    qml.RY(2 * angle, wires=0)\n",
        "    # QHACK #\n",
        "\n",
        "    return qml.sample(qml.PauliZ(0))"
      ],
      "metadata": {
        "id": "-y3_3AxOXPWL"
      },
      "execution_count": null,
      "outputs": []
    },
    {
      "cell_type": "code",
      "source": [
        "@qml.qnode(dev)\n",
        "def bomb_tester(angle):\n",
        "    \"\"\"Construct a circuit that implements a final one-shot measurement, given that the bomb does not explode\n",
        "\n",
        "    Args:\n",
        "        - angle (float): transmissivity of the Beam splitter right before the final detectors\n",
        "\n",
        "    Returns:\n",
        "        - (np.ndarray): a length-1 array representing result of the one-shot measurement\n",
        "    \"\"\"\n",
        "\n",
        "    # QHACK #\n",
        "    qml.RY(2 * angle, wires=0)\n",
        "    # QHACK #\n",
        "\n",
        "    return qml.sample(qml.PauliZ(0))"
      ],
      "metadata": {
        "id": "hmJkviR9XQ7-"
      },
      "execution_count": null,
      "outputs": []
    },
    {
      "cell_type": "code",
      "source": [
        "def simulate(angle, n):\n",
        "    \"\"\"Concatenate n bomb circuits and a final measurement, and return the results of 10000 one-shot measurements\n",
        "\n",
        "    Args:\n",
        "        - angle (float): transmissivity of all the beam splitters, taken to be identical.\n",
        "        - n (int): number of bomb circuits concatenated\n",
        "\n",
        "    Returns:\n",
        "        - (float): number of bombs successfully tested / number of bombs that didn't explode.\n",
        "    \"\"\"\n",
        "\n",
        "    # QHACK #\n",
        "    results = {'C': 0, 'D': 0, 'explosion': 0}\n",
        "    for k in range(0, 10000):\n",
        "        bomb_exploded = False\n",
        "        for i in range(n):\n",
        "            sample = is_bomb(angle)\n",
        "            if sample == 1:\n",
        "                bomb_exploded = True\n",
        "            if bomb_exploded:\n",
        "                results['explosion'] += 1\n",
        "                break\n",
        "        if bomb_exploded:\n",
        "            continue\n",
        "        if not bomb_exploded:\n",
        "            out = bomb_tester(angle)\n",
        "            if out == 1:\n",
        "                results['C'] += 1\n",
        "            else:\n",
        "                results['D'] += 1\n",
        "\n",
        "    return results['D'] / (10000 - results['explosion'])"
      ],
      "metadata": {
        "id": "oSzBuHlKXT-4"
      },
      "execution_count": null,
      "outputs": []
    },
    {
      "cell_type": "markdown",
      "source": [
        "Testing 1.in"
      ],
      "metadata": {
        "id": "-GqxJ4gXXet5"
      }
    },
    {
      "cell_type": "code",
      "source": [
        "output = simulate(0.78539,1)\n",
        "print(f\"{output}\")"
      ],
      "metadata": {
        "id": "CMZa0-CYXf3K"
      },
      "execution_count": null,
      "outputs": []
    },
    {
      "cell_type": "markdown",
      "source": [
        "Testing 2.in"
      ],
      "metadata": {
        "id": "iUaPBMQpXqcL"
      }
    },
    {
      "cell_type": "code",
      "source": [
        "output = simulate(1.256637,5)\n",
        "print(f\"{output}\")"
      ],
      "metadata": {
        "id": "3RwedoXIXp5d"
      },
      "execution_count": null,
      "outputs": []
    }
  ]
}